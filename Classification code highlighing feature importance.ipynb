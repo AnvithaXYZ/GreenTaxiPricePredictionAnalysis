{
 "cells": [
  {
   "cell_type": "markdown",
   "metadata": {
    "cell_id": "cda64491eef54eb594567b5ca5602f87",
    "deepnote_cell_type": "text-cell-h1",
    "formattedRanges": [],
    "id": "uQ-ZW-ORnPkK"
   },
   "source": [
    "# Importing Libraries"
   ]
  },
  {
   "cell_type": "code",
   "execution_count": 181,
   "metadata": {
    "cell_id": "ea0e4557cf6042ef93b5c53bc5364b5b",
    "deepnote_cell_type": "code",
    "deepnote_to_be_reexecuted": false,
    "execution_millis": 1630,
    "execution_start": 1682719481188,
    "id": "h1Jj7Z7fnPkO",
    "source_hash": "4b9cdf5b"
   },
   "outputs": [],
   "source": [
    "import pandas as pd\n",
    "import numpy as np\n",
    "import pyarrow.parquet as pq\n",
    "import seaborn as sns\n",
    "import matplotlib as map\n",
    "import matplotlib.pyplot as plt\n",
    "import datetime as dt\n",
    "from sklearn.preprocessing import StandardScaler, OneHotEncoder, MinMaxScaler\n",
    "from sklearn.model_selection import train_test_split, GridSearchCV\n",
    "from sklearn.pipeline import Pipeline\n",
    "from sklearn.metrics import accuracy_score, classification_report\n",
    "from sklearn.ensemble import RandomForestClassifier\n",
    "import xgboost as xgb\n",
    "from sklearn.svm import SVC\n",
    "from sklearn.neighbors import KNeighborsClassifier\n",
    "from sklearn.naive_bayes import GaussianNB\n",
    "from sklearn.linear_model import LogisticRegression\n",
    "from sklearn.tree import DecisionTreeClassifier\n",
    "\n",
    "\n",
    "import warnings\n",
    "warnings.filterwarnings('ignore')"
   ]
  },
  {
   "cell_type": "markdown",
   "metadata": {
    "cell_id": "b3a32df12238476da5bb68a3a5bdbf79",
    "deepnote_cell_type": "text-cell-h1",
    "formattedRanges": [],
    "id": "_JbJQghdnPkO"
   },
   "source": [
    "# Data Import"
   ]
  },
  {
   "cell_type": "markdown",
   "metadata": {
    "cell_id": "2f71ccb98cd14a15854d7539f8e8fd2d",
    "deepnote_cell_type": "text-cell-p",
    "formattedRanges": [],
    "id": "Ry1g-9UinPkP"
   },
   "source": [
    "We are creating a function to import the data and append all the data to the environment data frame."
   ]
  },
  {
   "cell_type": "code",
   "execution_count": 182,
   "metadata": {},
   "outputs": [
    {
     "name": "stdout",
     "output_type": "stream",
     "text": [
      "(0, 0)\n",
      "Loading https://d37ci6vzurychx.cloudfront.net/trip-data/green_tripdata_2022-01.parquet file.\n",
      "(62495, 20) records hvae been appended\n",
      "-----------------------------------File Loaded https://d37ci6vzurychx.cloudfront.net/trip-data/green_tripdata_2022-01.parquet ----------------------------------------\n",
      "Loading https://d37ci6vzurychx.cloudfront.net/trip-data/green_tripdata_2022-02.parquet file.\n",
      "(131894, 20) records hvae been appended\n",
      "-----------------------------------File Loaded https://d37ci6vzurychx.cloudfront.net/trip-data/green_tripdata_2022-02.parquet ----------------------------------------\n",
      "Loading https://d37ci6vzurychx.cloudfront.net/trip-data/green_tripdata_2022-03.parquet file.\n",
      "(210431, 20) records hvae been appended\n",
      "-----------------------------------File Loaded https://d37ci6vzurychx.cloudfront.net/trip-data/green_tripdata_2022-03.parquet ----------------------------------------\n",
      "Loading https://d37ci6vzurychx.cloudfront.net/trip-data/green_tripdata_2022-04.parquet file.\n",
      "(286567, 20) records hvae been appended\n",
      "-----------------------------------File Loaded https://d37ci6vzurychx.cloudfront.net/trip-data/green_tripdata_2022-04.parquet ----------------------------------------\n",
      "Loading https://d37ci6vzurychx.cloudfront.net/trip-data/green_tripdata_2022-05.parquet file.\n",
      "(363458, 20) records hvae been appended\n",
      "-----------------------------------File Loaded https://d37ci6vzurychx.cloudfront.net/trip-data/green_tripdata_2022-05.parquet ----------------------------------------\n",
      "Loading https://d37ci6vzurychx.cloudfront.net/trip-data/green_tripdata_2022-06.parquet file.\n",
      "(437176, 20) records hvae been appended\n",
      "-----------------------------------File Loaded https://d37ci6vzurychx.cloudfront.net/trip-data/green_tripdata_2022-06.parquet ----------------------------------------\n",
      "Loading https://d37ci6vzurychx.cloudfront.net/trip-data/green_tripdata_2022-07.parquet file.\n",
      "(501368, 20) records hvae been appended\n",
      "-----------------------------------File Loaded https://d37ci6vzurychx.cloudfront.net/trip-data/green_tripdata_2022-07.parquet ----------------------------------------\n",
      "Loading https://d37ci6vzurychx.cloudfront.net/trip-data/green_tripdata_2022-08.parquet file.\n",
      "(567297, 20) records hvae been appended\n",
      "-----------------------------------File Loaded https://d37ci6vzurychx.cloudfront.net/trip-data/green_tripdata_2022-08.parquet ----------------------------------------\n",
      "Loading https://d37ci6vzurychx.cloudfront.net/trip-data/green_tripdata_2022-09.parquet file.\n",
      "(636328, 20) records hvae been appended\n",
      "-----------------------------------File Loaded https://d37ci6vzurychx.cloudfront.net/trip-data/green_tripdata_2022-09.parquet ----------------------------------------\n",
      "Loading https://d37ci6vzurychx.cloudfront.net/trip-data/green_tripdata_2022-10.parquet file.\n",
      "(705650, 20) records hvae been appended\n",
      "-----------------------------------File Loaded https://d37ci6vzurychx.cloudfront.net/trip-data/green_tripdata_2022-10.parquet ----------------------------------------\n",
      "Loading https://d37ci6vzurychx.cloudfront.net/trip-data/green_tripdata_2022-11.parquet file.\n",
      "(767963, 20) records hvae been appended\n",
      "-----------------------------------File Loaded https://d37ci6vzurychx.cloudfront.net/trip-data/green_tripdata_2022-11.parquet ----------------------------------------\n",
      "Loading https://d37ci6vzurychx.cloudfront.net/trip-data/green_tripdata_2022-12.parquet file.\n",
      "(840402, 20) records hvae been appended\n",
      "-----------------------------------File Loaded https://d37ci6vzurychx.cloudfront.net/trip-data/green_tripdata_2022-12.parquet ----------------------------------------\n",
      "Loading https://d37ci6vzurychx.cloudfront.net/trip-data/green_tripdata_2023-01.parquet file.\n",
      "(908613, 20) records hvae been appended\n",
      "-----------------------------------File Loaded https://d37ci6vzurychx.cloudfront.net/trip-data/green_tripdata_2023-01.parquet ----------------------------------------\n"
     ]
    }
   ],
   "source": [
    "\n",
    "\n",
    "#Creating an empty dataframe.\n",
    "df = pd.DataFrame()\n",
    "#Printing shape of the dataframe\n",
    "print(df.shape)\n",
    "\n",
    "def read_merge_data (file_path):\n",
    "    global df\n",
    "    var_tab = pd.read_parquet(file_path)\n",
    "    df = pd.concat([df,var_tab], ignore_index = True)\n",
    "    print(f\"{df.shape} records hvae been appended\")\n",
    "\n",
    "file_name = [\n",
    "    'https://d37ci6vzurychx.cloudfront.net/trip-data/green_tripdata_2022-01.parquet',\n",
    "    'https://d37ci6vzurychx.cloudfront.net/trip-data/green_tripdata_2022-02.parquet',\n",
    "    'https://d37ci6vzurychx.cloudfront.net/trip-data/green_tripdata_2022-03.parquet',\n",
    "    'https://d37ci6vzurychx.cloudfront.net/trip-data/green_tripdata_2022-04.parquet',\n",
    "    'https://d37ci6vzurychx.cloudfront.net/trip-data/green_tripdata_2022-05.parquet',\n",
    "    'https://d37ci6vzurychx.cloudfront.net/trip-data/green_tripdata_2022-06.parquet',\n",
    "    'https://d37ci6vzurychx.cloudfront.net/trip-data/green_tripdata_2022-07.parquet',\n",
    "    'https://d37ci6vzurychx.cloudfront.net/trip-data/green_tripdata_2022-08.parquet',\n",
    "    'https://d37ci6vzurychx.cloudfront.net/trip-data/green_tripdata_2022-09.parquet',\n",
    "    'https://d37ci6vzurychx.cloudfront.net/trip-data/green_tripdata_2022-10.parquet',\n",
    "    'https://d37ci6vzurychx.cloudfront.net/trip-data/green_tripdata_2022-11.parquet',\n",
    "    'https://d37ci6vzurychx.cloudfront.net/trip-data/green_tripdata_2022-12.parquet',\n",
    "    'https://d37ci6vzurychx.cloudfront.net/trip-data/green_tripdata_2023-01.parquet']\n",
    "    \n",
    "    \n",
    "#Calling the defined function [read_merge(file_path)] to import data\n",
    "for i in file_name:\n",
    "    print(f\"Loading {i} file.\")\n",
    "    read_merge_data(i)\n",
    "    print(f\"-----------------------------------File Loaded {i} ----------------------------------------\")\n"
   ]
  },
  {
   "cell_type": "code",
   "execution_count": 183,
   "metadata": {
    "cell_id": "46397875144247a8920fc1464ba8b282",
    "colab": {
     "base_uri": "https://localhost:8080/",
     "height": 431
    },
    "deepnote_cell_type": "code",
    "deepnote_table_loading": false,
    "deepnote_table_state": {
     "filters": [],
     "pageIndex": 0,
     "pageSize": 50,
     "sortBy": []
    },
    "deepnote_to_be_reexecuted": false,
    "execution_millis": 49,
    "execution_start": 1682719484743,
    "id": "FGcTK5FdnPkR",
    "outputId": "bdbbceef-f533-4e80-8ee1-f33720a85950",
    "source_hash": "4a6059af"
   },
   "outputs": [
    {
     "name": "stdout",
     "output_type": "stream",
     "text": [
      "(265, 4)\n",
      "<class 'pandas.core.frame.DataFrame'>\n",
      "RangeIndex: 265 entries, 0 to 264\n",
      "Data columns (total 4 columns):\n",
      " #   Column        Non-Null Count  Dtype \n",
      "---  ------        --------------  ----- \n",
      " 0   LocationID    265 non-null    int64 \n",
      " 1   Borough       265 non-null    object\n",
      " 2   Zone          264 non-null    object\n",
      " 3   service_zone  263 non-null    object\n",
      "dtypes: int64(1), object(3)\n",
      "memory usage: 8.4+ KB\n",
      "None\n"
     ]
    },
    {
     "data": {
      "text/html": [
       "<div>\n",
       "<style scoped>\n",
       "    .dataframe tbody tr th:only-of-type {\n",
       "        vertical-align: middle;\n",
       "    }\n",
       "\n",
       "    .dataframe tbody tr th {\n",
       "        vertical-align: top;\n",
       "    }\n",
       "\n",
       "    .dataframe thead th {\n",
       "        text-align: right;\n",
       "    }\n",
       "</style>\n",
       "<table border=\"1\" class=\"dataframe\">\n",
       "  <thead>\n",
       "    <tr style=\"text-align: right;\">\n",
       "      <th></th>\n",
       "      <th>LocationID</th>\n",
       "      <th>Borough</th>\n",
       "      <th>Zone</th>\n",
       "      <th>service_zone</th>\n",
       "    </tr>\n",
       "  </thead>\n",
       "  <tbody>\n",
       "    <tr>\n",
       "      <th>0</th>\n",
       "      <td>1</td>\n",
       "      <td>EWR</td>\n",
       "      <td>Newark Airport</td>\n",
       "      <td>EWR</td>\n",
       "    </tr>\n",
       "    <tr>\n",
       "      <th>1</th>\n",
       "      <td>2</td>\n",
       "      <td>Queens</td>\n",
       "      <td>Jamaica Bay</td>\n",
       "      <td>Boro Zone</td>\n",
       "    </tr>\n",
       "    <tr>\n",
       "      <th>2</th>\n",
       "      <td>3</td>\n",
       "      <td>Bronx</td>\n",
       "      <td>Allerton/Pelham Gardens</td>\n",
       "      <td>Boro Zone</td>\n",
       "    </tr>\n",
       "    <tr>\n",
       "      <th>3</th>\n",
       "      <td>4</td>\n",
       "      <td>Manhattan</td>\n",
       "      <td>Alphabet City</td>\n",
       "      <td>Yellow Zone</td>\n",
       "    </tr>\n",
       "    <tr>\n",
       "      <th>4</th>\n",
       "      <td>5</td>\n",
       "      <td>Staten Island</td>\n",
       "      <td>Arden Heights</td>\n",
       "      <td>Boro Zone</td>\n",
       "    </tr>\n",
       "  </tbody>\n",
       "</table>\n",
       "</div>"
      ],
      "text/plain": [
       "   LocationID        Borough                     Zone service_zone\n",
       "0           1            EWR           Newark Airport          EWR\n",
       "1           2         Queens              Jamaica Bay    Boro Zone\n",
       "2           3          Bronx  Allerton/Pelham Gardens    Boro Zone\n",
       "3           4      Manhattan            Alphabet City  Yellow Zone\n",
       "4           5  Staten Island            Arden Heights    Boro Zone"
      ]
     },
     "execution_count": 183,
     "metadata": {},
     "output_type": "execute_result"
    }
   ],
   "source": [
    "#importing taxi zone data\n",
    "taxizonefilepath = 'taxi+_zone_lookup.csv'\n",
    "taxizone_df = pd.read_csv(taxizonefilepath)\n",
    "print(taxizone_df.shape)\n",
    "print(taxizone_df.info())\n",
    "taxizone_df.head(5)"
   ]
  },
  {
   "cell_type": "code",
   "execution_count": 184,
   "metadata": {
    "cell_id": "591bf8d64fe74d509e56d5c93feab1fb",
    "deepnote_cell_type": "code",
    "deepnote_to_be_reexecuted": false,
    "execution_millis": 29,
    "execution_start": 1682719484794,
    "source_hash": "464a1b5e"
   },
   "outputs": [
    {
     "name": "stdout",
     "output_type": "stream",
     "text": [
      "(13, 1)\n",
      "<class 'pandas.core.frame.DataFrame'>\n",
      "RangeIndex: 13 entries, 0 to 12\n",
      "Data columns (total 1 columns):\n",
      " #   Column    Non-Null Count  Dtype \n",
      "---  ------    --------------  ----- \n",
      " 0   Holidays  13 non-null     object\n",
      "dtypes: object(1)\n",
      "memory usage: 232.0+ bytes\n",
      "None\n"
     ]
    },
    {
     "data": {
      "text/html": [
       "<div>\n",
       "<style scoped>\n",
       "    .dataframe tbody tr th:only-of-type {\n",
       "        vertical-align: middle;\n",
       "    }\n",
       "\n",
       "    .dataframe tbody tr th {\n",
       "        vertical-align: top;\n",
       "    }\n",
       "\n",
       "    .dataframe thead th {\n",
       "        text-align: right;\n",
       "    }\n",
       "</style>\n",
       "<table border=\"1\" class=\"dataframe\">\n",
       "  <thead>\n",
       "    <tr style=\"text-align: right;\">\n",
       "      <th></th>\n",
       "      <th>Holidays</th>\n",
       "    </tr>\n",
       "  </thead>\n",
       "  <tbody>\n",
       "    <tr>\n",
       "      <th>0</th>\n",
       "      <td>2022-01-01</td>\n",
       "    </tr>\n",
       "    <tr>\n",
       "      <th>1</th>\n",
       "      <td>2022-01-17</td>\n",
       "    </tr>\n",
       "    <tr>\n",
       "      <th>2</th>\n",
       "      <td>2022-02-21</td>\n",
       "    </tr>\n",
       "    <tr>\n",
       "      <th>3</th>\n",
       "      <td>2022-05-30</td>\n",
       "    </tr>\n",
       "    <tr>\n",
       "      <th>4</th>\n",
       "      <td>2022-07-04</td>\n",
       "    </tr>\n",
       "  </tbody>\n",
       "</table>\n",
       "</div>"
      ],
      "text/plain": [
       "     Holidays\n",
       "0  2022-01-01\n",
       "1  2022-01-17\n",
       "2  2022-02-21\n",
       "3  2022-05-30\n",
       "4  2022-07-04"
      ]
     },
     "execution_count": 184,
     "metadata": {},
     "output_type": "execute_result"
    }
   ],
   "source": [
    "#importing holidays\n",
    "holidaysfilepath = 'Holidays.csv'\n",
    "holidays_df = pd.read_csv(holidaysfilepath)\n",
    "print(holidays_df.shape)\n",
    "print(holidays_df.info())\n",
    "holidays_df.head(5)"
   ]
  },
  {
   "cell_type": "markdown",
   "metadata": {
    "cell_id": "a430a80a8a4141ff8a785f2705565960",
    "deepnote_cell_type": "text-cell-h1",
    "formattedRanges": [],
    "id": "eXV8X4ZQnPkR"
   },
   "source": [
    "# Data Exploration"
   ]
  },
  {
   "cell_type": "markdown",
   "metadata": {
    "cell_id": "5460c057a11a4638a347037e19669e5c",
    "deepnote_cell_type": "markdown",
    "id": "9ZLRXhwOnPkR"
   },
   "source": [
    "Dimensions of dataset: rows and columns"
   ]
  },
  {
   "cell_type": "code",
   "execution_count": 185,
   "metadata": {
    "cell_id": "4b4eb8454dd949d8af5e57ce3d6eb050",
    "colab": {
     "base_uri": "https://localhost:8080/"
    },
    "deepnote_cell_type": "code",
    "deepnote_to_be_reexecuted": false,
    "execution_millis": 48,
    "execution_start": 1682719484811,
    "id": "XhYlHS7enPkR",
    "outputId": "d083ac2f-4edb-41e2-b188-eb10a7f52f8c",
    "source_hash": "14f60b8f"
   },
   "outputs": [
    {
     "data": {
      "text/plain": [
       "(908613, 20)"
      ]
     },
     "execution_count": 185,
     "metadata": {},
     "output_type": "execute_result"
    }
   ],
   "source": [
    "df.shape"
   ]
  },
  {
   "cell_type": "code",
   "execution_count": 186,
   "metadata": {
    "cell_id": "b56cec404def498fb16ca03e4d86047d",
    "colab": {
     "base_uri": "https://localhost:8080/"
    },
    "deepnote_cell_type": "code",
    "deepnote_to_be_reexecuted": false,
    "execution_millis": 3,
    "execution_start": 1682719484856,
    "id": "PHE0Jgi1nPkS",
    "outputId": "9dd816c2-db6b-401c-885a-2b451796aea3",
    "source_hash": "68494297"
   },
   "outputs": [
    {
     "data": {
      "text/plain": [
       "(265, 4)"
      ]
     },
     "execution_count": 186,
     "metadata": {},
     "output_type": "execute_result"
    }
   ],
   "source": [
    "taxizone_df.shape"
   ]
  },
  {
   "cell_type": "code",
   "execution_count": 187,
   "metadata": {
    "cell_id": "2e06755e08a74eec98c70470fc4c8f01",
    "colab": {
     "base_uri": "https://localhost:8080/",
     "height": 270
    },
    "deepnote_cell_type": "code",
    "deepnote_to_be_reexecuted": false,
    "execution_millis": 26,
    "execution_start": 1682719484856,
    "id": "ZY4g-UQenPkS",
    "outputId": "fe4edfa0-aaad-4482-b5cc-451119628983",
    "source_hash": "c085b6ba"
   },
   "outputs": [
    {
     "data": {
      "text/html": [
       "<div>\n",
       "<style scoped>\n",
       "    .dataframe tbody tr th:only-of-type {\n",
       "        vertical-align: middle;\n",
       "    }\n",
       "\n",
       "    .dataframe tbody tr th {\n",
       "        vertical-align: top;\n",
       "    }\n",
       "\n",
       "    .dataframe thead th {\n",
       "        text-align: right;\n",
       "    }\n",
       "</style>\n",
       "<table border=\"1\" class=\"dataframe\">\n",
       "  <thead>\n",
       "    <tr style=\"text-align: right;\">\n",
       "      <th></th>\n",
       "      <th>VendorID</th>\n",
       "      <th>lpep_pickup_datetime</th>\n",
       "      <th>lpep_dropoff_datetime</th>\n",
       "      <th>store_and_fwd_flag</th>\n",
       "      <th>RatecodeID</th>\n",
       "      <th>PULocationID</th>\n",
       "      <th>DOLocationID</th>\n",
       "      <th>passenger_count</th>\n",
       "      <th>trip_distance</th>\n",
       "      <th>fare_amount</th>\n",
       "      <th>extra</th>\n",
       "      <th>mta_tax</th>\n",
       "      <th>tip_amount</th>\n",
       "      <th>tolls_amount</th>\n",
       "      <th>ehail_fee</th>\n",
       "      <th>improvement_surcharge</th>\n",
       "      <th>total_amount</th>\n",
       "      <th>payment_type</th>\n",
       "      <th>trip_type</th>\n",
       "      <th>congestion_surcharge</th>\n",
       "    </tr>\n",
       "  </thead>\n",
       "  <tbody>\n",
       "    <tr>\n",
       "      <th>0</th>\n",
       "      <td>2</td>\n",
       "      <td>2022-01-01 00:14:21</td>\n",
       "      <td>2022-01-01 00:15:33</td>\n",
       "      <td>N</td>\n",
       "      <td>1.0</td>\n",
       "      <td>42</td>\n",
       "      <td>42</td>\n",
       "      <td>1.0</td>\n",
       "      <td>0.44</td>\n",
       "      <td>3.5</td>\n",
       "      <td>0.50</td>\n",
       "      <td>0.5</td>\n",
       "      <td>0.00</td>\n",
       "      <td>0.0</td>\n",
       "      <td>None</td>\n",
       "      <td>0.3</td>\n",
       "      <td>4.80</td>\n",
       "      <td>2.0</td>\n",
       "      <td>1.0</td>\n",
       "      <td>0.00</td>\n",
       "    </tr>\n",
       "    <tr>\n",
       "      <th>1</th>\n",
       "      <td>1</td>\n",
       "      <td>2022-01-01 00:20:55</td>\n",
       "      <td>2022-01-01 00:29:38</td>\n",
       "      <td>N</td>\n",
       "      <td>1.0</td>\n",
       "      <td>116</td>\n",
       "      <td>41</td>\n",
       "      <td>1.0</td>\n",
       "      <td>2.10</td>\n",
       "      <td>9.5</td>\n",
       "      <td>0.50</td>\n",
       "      <td>0.5</td>\n",
       "      <td>0.00</td>\n",
       "      <td>0.0</td>\n",
       "      <td>None</td>\n",
       "      <td>0.3</td>\n",
       "      <td>10.80</td>\n",
       "      <td>2.0</td>\n",
       "      <td>1.0</td>\n",
       "      <td>0.00</td>\n",
       "    </tr>\n",
       "    <tr>\n",
       "      <th>2</th>\n",
       "      <td>1</td>\n",
       "      <td>2022-01-01 00:57:02</td>\n",
       "      <td>2022-01-01 01:13:14</td>\n",
       "      <td>N</td>\n",
       "      <td>1.0</td>\n",
       "      <td>41</td>\n",
       "      <td>140</td>\n",
       "      <td>1.0</td>\n",
       "      <td>3.70</td>\n",
       "      <td>14.5</td>\n",
       "      <td>3.25</td>\n",
       "      <td>0.5</td>\n",
       "      <td>4.60</td>\n",
       "      <td>0.0</td>\n",
       "      <td>None</td>\n",
       "      <td>0.3</td>\n",
       "      <td>23.15</td>\n",
       "      <td>1.0</td>\n",
       "      <td>1.0</td>\n",
       "      <td>2.75</td>\n",
       "    </tr>\n",
       "    <tr>\n",
       "      <th>3</th>\n",
       "      <td>2</td>\n",
       "      <td>2022-01-01 00:07:42</td>\n",
       "      <td>2022-01-01 00:15:57</td>\n",
       "      <td>N</td>\n",
       "      <td>1.0</td>\n",
       "      <td>181</td>\n",
       "      <td>181</td>\n",
       "      <td>1.0</td>\n",
       "      <td>1.69</td>\n",
       "      <td>8.0</td>\n",
       "      <td>0.50</td>\n",
       "      <td>0.5</td>\n",
       "      <td>0.00</td>\n",
       "      <td>0.0</td>\n",
       "      <td>None</td>\n",
       "      <td>0.3</td>\n",
       "      <td>9.30</td>\n",
       "      <td>2.0</td>\n",
       "      <td>1.0</td>\n",
       "      <td>0.00</td>\n",
       "    </tr>\n",
       "    <tr>\n",
       "      <th>4</th>\n",
       "      <td>2</td>\n",
       "      <td>2022-01-01 00:07:50</td>\n",
       "      <td>2022-01-01 00:28:52</td>\n",
       "      <td>N</td>\n",
       "      <td>1.0</td>\n",
       "      <td>33</td>\n",
       "      <td>170</td>\n",
       "      <td>1.0</td>\n",
       "      <td>6.26</td>\n",
       "      <td>22.0</td>\n",
       "      <td>0.50</td>\n",
       "      <td>0.5</td>\n",
       "      <td>5.21</td>\n",
       "      <td>0.0</td>\n",
       "      <td>None</td>\n",
       "      <td>0.3</td>\n",
       "      <td>31.26</td>\n",
       "      <td>1.0</td>\n",
       "      <td>1.0</td>\n",
       "      <td>2.75</td>\n",
       "    </tr>\n",
       "  </tbody>\n",
       "</table>\n",
       "</div>"
      ],
      "text/plain": [
       "   VendorID lpep_pickup_datetime lpep_dropoff_datetime store_and_fwd_flag  \\\n",
       "0         2  2022-01-01 00:14:21   2022-01-01 00:15:33                  N   \n",
       "1         1  2022-01-01 00:20:55   2022-01-01 00:29:38                  N   \n",
       "2         1  2022-01-01 00:57:02   2022-01-01 01:13:14                  N   \n",
       "3         2  2022-01-01 00:07:42   2022-01-01 00:15:57                  N   \n",
       "4         2  2022-01-01 00:07:50   2022-01-01 00:28:52                  N   \n",
       "\n",
       "   RatecodeID  PULocationID  DOLocationID  passenger_count  trip_distance  \\\n",
       "0         1.0            42            42              1.0           0.44   \n",
       "1         1.0           116            41              1.0           2.10   \n",
       "2         1.0            41           140              1.0           3.70   \n",
       "3         1.0           181           181              1.0           1.69   \n",
       "4         1.0            33           170              1.0           6.26   \n",
       "\n",
       "   fare_amount  extra  mta_tax  tip_amount  tolls_amount ehail_fee  \\\n",
       "0          3.5   0.50      0.5        0.00           0.0      None   \n",
       "1          9.5   0.50      0.5        0.00           0.0      None   \n",
       "2         14.5   3.25      0.5        4.60           0.0      None   \n",
       "3          8.0   0.50      0.5        0.00           0.0      None   \n",
       "4         22.0   0.50      0.5        5.21           0.0      None   \n",
       "\n",
       "   improvement_surcharge  total_amount  payment_type  trip_type  \\\n",
       "0                    0.3          4.80           2.0        1.0   \n",
       "1                    0.3         10.80           2.0        1.0   \n",
       "2                    0.3         23.15           1.0        1.0   \n",
       "3                    0.3          9.30           2.0        1.0   \n",
       "4                    0.3         31.26           1.0        1.0   \n",
       "\n",
       "   congestion_surcharge  \n",
       "0                  0.00  \n",
       "1                  0.00  \n",
       "2                  2.75  \n",
       "3                  0.00  \n",
       "4                  2.75  "
      ]
     },
     "execution_count": 187,
     "metadata": {},
     "output_type": "execute_result"
    }
   ],
   "source": [
    "df.head()"
   ]
  },
  {
   "cell_type": "code",
   "execution_count": 188,
   "metadata": {
    "cell_id": "0a901170aafe4b62830fc5e535e8bc22",
    "colab": {
     "base_uri": "https://localhost:8080/",
     "height": 270
    },
    "deepnote_cell_type": "code",
    "deepnote_to_be_reexecuted": false,
    "execution_millis": 96,
    "execution_start": 1682719484925,
    "id": "C6KOPgl7nPkS",
    "outputId": "0e7c46c5-c5ce-4db9-904e-f99706e788d5",
    "source_hash": "838c0c28"
   },
   "outputs": [
    {
     "data": {
      "text/html": [
       "<div>\n",
       "<style scoped>\n",
       "    .dataframe tbody tr th:only-of-type {\n",
       "        vertical-align: middle;\n",
       "    }\n",
       "\n",
       "    .dataframe tbody tr th {\n",
       "        vertical-align: top;\n",
       "    }\n",
       "\n",
       "    .dataframe thead th {\n",
       "        text-align: right;\n",
       "    }\n",
       "</style>\n",
       "<table border=\"1\" class=\"dataframe\">\n",
       "  <thead>\n",
       "    <tr style=\"text-align: right;\">\n",
       "      <th></th>\n",
       "      <th>VendorID</th>\n",
       "      <th>lpep_pickup_datetime</th>\n",
       "      <th>lpep_dropoff_datetime</th>\n",
       "      <th>store_and_fwd_flag</th>\n",
       "      <th>RatecodeID</th>\n",
       "      <th>PULocationID</th>\n",
       "      <th>DOLocationID</th>\n",
       "      <th>passenger_count</th>\n",
       "      <th>trip_distance</th>\n",
       "      <th>fare_amount</th>\n",
       "      <th>extra</th>\n",
       "      <th>mta_tax</th>\n",
       "      <th>tip_amount</th>\n",
       "      <th>tolls_amount</th>\n",
       "      <th>ehail_fee</th>\n",
       "      <th>improvement_surcharge</th>\n",
       "      <th>total_amount</th>\n",
       "      <th>payment_type</th>\n",
       "      <th>trip_type</th>\n",
       "      <th>congestion_surcharge</th>\n",
       "    </tr>\n",
       "  </thead>\n",
       "  <tbody>\n",
       "    <tr>\n",
       "      <th>908608</th>\n",
       "      <td>2</td>\n",
       "      <td>2023-01-31 22:29:00</td>\n",
       "      <td>2023-01-31 22:42:00</td>\n",
       "      <td>None</td>\n",
       "      <td>NaN</td>\n",
       "      <td>49</td>\n",
       "      <td>62</td>\n",
       "      <td>NaN</td>\n",
       "      <td>4070.82</td>\n",
       "      <td>15.70</td>\n",
       "      <td>0.0</td>\n",
       "      <td>0.0</td>\n",
       "      <td>0.00</td>\n",
       "      <td>0.0</td>\n",
       "      <td>None</td>\n",
       "      <td>1.0</td>\n",
       "      <td>16.70</td>\n",
       "      <td>NaN</td>\n",
       "      <td>NaN</td>\n",
       "      <td>NaN</td>\n",
       "    </tr>\n",
       "    <tr>\n",
       "      <th>908609</th>\n",
       "      <td>2</td>\n",
       "      <td>2023-01-31 22:40:00</td>\n",
       "      <td>2023-01-31 22:48:00</td>\n",
       "      <td>None</td>\n",
       "      <td>NaN</td>\n",
       "      <td>10</td>\n",
       "      <td>205</td>\n",
       "      <td>NaN</td>\n",
       "      <td>2.14</td>\n",
       "      <td>4.41</td>\n",
       "      <td>0.0</td>\n",
       "      <td>0.0</td>\n",
       "      <td>0.00</td>\n",
       "      <td>0.0</td>\n",
       "      <td>None</td>\n",
       "      <td>1.0</td>\n",
       "      <td>5.41</td>\n",
       "      <td>NaN</td>\n",
       "      <td>NaN</td>\n",
       "      <td>NaN</td>\n",
       "    </tr>\n",
       "    <tr>\n",
       "      <th>908610</th>\n",
       "      <td>2</td>\n",
       "      <td>2023-01-31 23:46:00</td>\n",
       "      <td>2023-02-01 00:02:00</td>\n",
       "      <td>None</td>\n",
       "      <td>NaN</td>\n",
       "      <td>66</td>\n",
       "      <td>37</td>\n",
       "      <td>NaN</td>\n",
       "      <td>3.44</td>\n",
       "      <td>16.53</td>\n",
       "      <td>0.0</td>\n",
       "      <td>0.0</td>\n",
       "      <td>3.51</td>\n",
       "      <td>0.0</td>\n",
       "      <td>None</td>\n",
       "      <td>1.0</td>\n",
       "      <td>21.04</td>\n",
       "      <td>NaN</td>\n",
       "      <td>NaN</td>\n",
       "      <td>NaN</td>\n",
       "    </tr>\n",
       "    <tr>\n",
       "      <th>908611</th>\n",
       "      <td>2</td>\n",
       "      <td>2023-01-31 23:01:00</td>\n",
       "      <td>2023-01-31 23:19:00</td>\n",
       "      <td>None</td>\n",
       "      <td>NaN</td>\n",
       "      <td>225</td>\n",
       "      <td>189</td>\n",
       "      <td>NaN</td>\n",
       "      <td>3.03</td>\n",
       "      <td>14.98</td>\n",
       "      <td>0.0</td>\n",
       "      <td>0.0</td>\n",
       "      <td>3.20</td>\n",
       "      <td>0.0</td>\n",
       "      <td>None</td>\n",
       "      <td>1.0</td>\n",
       "      <td>19.18</td>\n",
       "      <td>NaN</td>\n",
       "      <td>NaN</td>\n",
       "      <td>NaN</td>\n",
       "    </tr>\n",
       "    <tr>\n",
       "      <th>908612</th>\n",
       "      <td>2</td>\n",
       "      <td>2023-01-31 23:51:00</td>\n",
       "      <td>2023-02-01 00:07:00</td>\n",
       "      <td>None</td>\n",
       "      <td>NaN</td>\n",
       "      <td>256</td>\n",
       "      <td>140</td>\n",
       "      <td>NaN</td>\n",
       "      <td>5.82</td>\n",
       "      <td>23.65</td>\n",
       "      <td>0.0</td>\n",
       "      <td>0.0</td>\n",
       "      <td>2.00</td>\n",
       "      <td>0.0</td>\n",
       "      <td>None</td>\n",
       "      <td>1.0</td>\n",
       "      <td>29.40</td>\n",
       "      <td>NaN</td>\n",
       "      <td>NaN</td>\n",
       "      <td>NaN</td>\n",
       "    </tr>\n",
       "  </tbody>\n",
       "</table>\n",
       "</div>"
      ],
      "text/plain": [
       "        VendorID lpep_pickup_datetime lpep_dropoff_datetime  \\\n",
       "908608         2  2023-01-31 22:29:00   2023-01-31 22:42:00   \n",
       "908609         2  2023-01-31 22:40:00   2023-01-31 22:48:00   \n",
       "908610         2  2023-01-31 23:46:00   2023-02-01 00:02:00   \n",
       "908611         2  2023-01-31 23:01:00   2023-01-31 23:19:00   \n",
       "908612         2  2023-01-31 23:51:00   2023-02-01 00:07:00   \n",
       "\n",
       "       store_and_fwd_flag  RatecodeID  PULocationID  DOLocationID  \\\n",
       "908608               None         NaN            49            62   \n",
       "908609               None         NaN            10           205   \n",
       "908610               None         NaN            66            37   \n",
       "908611               None         NaN           225           189   \n",
       "908612               None         NaN           256           140   \n",
       "\n",
       "        passenger_count  trip_distance  fare_amount  extra  mta_tax  \\\n",
       "908608              NaN        4070.82        15.70    0.0      0.0   \n",
       "908609              NaN           2.14         4.41    0.0      0.0   \n",
       "908610              NaN           3.44        16.53    0.0      0.0   \n",
       "908611              NaN           3.03        14.98    0.0      0.0   \n",
       "908612              NaN           5.82        23.65    0.0      0.0   \n",
       "\n",
       "        tip_amount  tolls_amount ehail_fee  improvement_surcharge  \\\n",
       "908608        0.00           0.0      None                    1.0   \n",
       "908609        0.00           0.0      None                    1.0   \n",
       "908610        3.51           0.0      None                    1.0   \n",
       "908611        3.20           0.0      None                    1.0   \n",
       "908612        2.00           0.0      None                    1.0   \n",
       "\n",
       "        total_amount  payment_type  trip_type  congestion_surcharge  \n",
       "908608         16.70           NaN        NaN                   NaN  \n",
       "908609          5.41           NaN        NaN                   NaN  \n",
       "908610         21.04           NaN        NaN                   NaN  \n",
       "908611         19.18           NaN        NaN                   NaN  \n",
       "908612         29.40           NaN        NaN                   NaN  "
      ]
     },
     "execution_count": 188,
     "metadata": {},
     "output_type": "execute_result"
    }
   ],
   "source": [
    "df.tail()"
   ]
  },
  {
   "cell_type": "code",
   "execution_count": 189,
   "metadata": {
    "cell_id": "c47228e270f84449a7fb6435f14c3a58",
    "colab": {
     "base_uri": "https://localhost:8080/",
     "height": 206
    },
    "deepnote_cell_type": "code",
    "deepnote_to_be_reexecuted": false,
    "execution_millis": 49,
    "execution_start": 1682719484973,
    "id": "ST9UJfEenPkT",
    "outputId": "7412c4c5-581a-44e3-d2a7-abe1df675d78",
    "source_hash": "6b8f15a1"
   },
   "outputs": [
    {
     "data": {
      "text/html": [
       "<div>\n",
       "<style scoped>\n",
       "    .dataframe tbody tr th:only-of-type {\n",
       "        vertical-align: middle;\n",
       "    }\n",
       "\n",
       "    .dataframe tbody tr th {\n",
       "        vertical-align: top;\n",
       "    }\n",
       "\n",
       "    .dataframe thead th {\n",
       "        text-align: right;\n",
       "    }\n",
       "</style>\n",
       "<table border=\"1\" class=\"dataframe\">\n",
       "  <thead>\n",
       "    <tr style=\"text-align: right;\">\n",
       "      <th></th>\n",
       "      <th>LocationID</th>\n",
       "      <th>Borough</th>\n",
       "      <th>Zone</th>\n",
       "      <th>service_zone</th>\n",
       "    </tr>\n",
       "  </thead>\n",
       "  <tbody>\n",
       "    <tr>\n",
       "      <th>0</th>\n",
       "      <td>1</td>\n",
       "      <td>EWR</td>\n",
       "      <td>Newark Airport</td>\n",
       "      <td>EWR</td>\n",
       "    </tr>\n",
       "    <tr>\n",
       "      <th>1</th>\n",
       "      <td>2</td>\n",
       "      <td>Queens</td>\n",
       "      <td>Jamaica Bay</td>\n",
       "      <td>Boro Zone</td>\n",
       "    </tr>\n",
       "    <tr>\n",
       "      <th>2</th>\n",
       "      <td>3</td>\n",
       "      <td>Bronx</td>\n",
       "      <td>Allerton/Pelham Gardens</td>\n",
       "      <td>Boro Zone</td>\n",
       "    </tr>\n",
       "    <tr>\n",
       "      <th>3</th>\n",
       "      <td>4</td>\n",
       "      <td>Manhattan</td>\n",
       "      <td>Alphabet City</td>\n",
       "      <td>Yellow Zone</td>\n",
       "    </tr>\n",
       "    <tr>\n",
       "      <th>4</th>\n",
       "      <td>5</td>\n",
       "      <td>Staten Island</td>\n",
       "      <td>Arden Heights</td>\n",
       "      <td>Boro Zone</td>\n",
       "    </tr>\n",
       "  </tbody>\n",
       "</table>\n",
       "</div>"
      ],
      "text/plain": [
       "   LocationID        Borough                     Zone service_zone\n",
       "0           1            EWR           Newark Airport          EWR\n",
       "1           2         Queens              Jamaica Bay    Boro Zone\n",
       "2           3          Bronx  Allerton/Pelham Gardens    Boro Zone\n",
       "3           4      Manhattan            Alphabet City  Yellow Zone\n",
       "4           5  Staten Island            Arden Heights    Boro Zone"
      ]
     },
     "execution_count": 189,
     "metadata": {},
     "output_type": "execute_result"
    }
   ],
   "source": [
    "taxizone_df.head(5)"
   ]
  },
  {
   "cell_type": "markdown",
   "metadata": {
    "cell_id": "9945eb9f00234c3db93b5c6c30c4d2bf",
    "deepnote_cell_type": "markdown",
    "id": "5q1MxugsnPkU"
   },
   "source": [
    "Datatype of each column"
   ]
  },
  {
   "cell_type": "markdown",
   "metadata": {
    "cell_id": "d94aaf9eb9d04352866b71e9527c7357",
    "deepnote_cell_type": "text-cell-h1",
    "formattedRanges": [],
    "id": "7_wP8ujcnPkU"
   },
   "source": [
    "# Data Pre-processing"
   ]
  },
  {
   "cell_type": "markdown",
   "metadata": {
    "cell_id": "5924d7219c9e4b04bb080fd1e36afdd9",
    "deepnote_cell_type": "text-cell-p",
    "formattedRanges": [],
    "id": "X8HkWzd8nPkV"
   },
   "source": [
    "Merging Taxizone Data for Pickup."
   ]
  },
  {
   "cell_type": "code",
   "execution_count": 190,
   "metadata": {
    "cell_id": "252eb3e30a064868bd2fb44781859308",
    "colab": {
     "base_uri": "https://localhost:8080/",
     "height": 591
    },
    "deepnote_cell_type": "code",
    "deepnote_to_be_reexecuted": false,
    "execution_millis": 808,
    "execution_start": 1682719487298,
    "id": "occ7sTEqnPkV",
    "outputId": "b6332f97-0d0f-4c04-8ebb-b25c1809fedf",
    "source_hash": "6b35c164"
   },
   "outputs": [
    {
     "data": {
      "text/html": [
       "<div>\n",
       "<style scoped>\n",
       "    .dataframe tbody tr th:only-of-type {\n",
       "        vertical-align: middle;\n",
       "    }\n",
       "\n",
       "    .dataframe tbody tr th {\n",
       "        vertical-align: top;\n",
       "    }\n",
       "\n",
       "    .dataframe thead th {\n",
       "        text-align: right;\n",
       "    }\n",
       "</style>\n",
       "<table border=\"1\" class=\"dataframe\">\n",
       "  <thead>\n",
       "    <tr style=\"text-align: right;\">\n",
       "      <th></th>\n",
       "      <th>VendorID</th>\n",
       "      <th>lpep_pickup_datetime</th>\n",
       "      <th>lpep_dropoff_datetime</th>\n",
       "      <th>store_and_fwd_flag</th>\n",
       "      <th>RatecodeID</th>\n",
       "      <th>PULocationID</th>\n",
       "      <th>DOLocationID</th>\n",
       "      <th>passenger_count</th>\n",
       "      <th>trip_distance</th>\n",
       "      <th>fare_amount</th>\n",
       "      <th>...</th>\n",
       "      <th>tolls_amount</th>\n",
       "      <th>ehail_fee</th>\n",
       "      <th>improvement_surcharge</th>\n",
       "      <th>total_amount</th>\n",
       "      <th>payment_type</th>\n",
       "      <th>trip_type</th>\n",
       "      <th>congestion_surcharge</th>\n",
       "      <th>pickup_borough</th>\n",
       "      <th>pickup_zone</th>\n",
       "      <th>pickup_service_zone</th>\n",
       "    </tr>\n",
       "  </thead>\n",
       "  <tbody>\n",
       "    <tr>\n",
       "      <th>0</th>\n",
       "      <td>2</td>\n",
       "      <td>2022-01-01 00:14:21</td>\n",
       "      <td>2022-01-01 00:15:33</td>\n",
       "      <td>N</td>\n",
       "      <td>1.0</td>\n",
       "      <td>42</td>\n",
       "      <td>42</td>\n",
       "      <td>1.0</td>\n",
       "      <td>0.44</td>\n",
       "      <td>3.50</td>\n",
       "      <td>...</td>\n",
       "      <td>0.0</td>\n",
       "      <td>None</td>\n",
       "      <td>0.3</td>\n",
       "      <td>4.80</td>\n",
       "      <td>2.0</td>\n",
       "      <td>1.0</td>\n",
       "      <td>0.00</td>\n",
       "      <td>Manhattan</td>\n",
       "      <td>Central Harlem North</td>\n",
       "      <td>Boro Zone</td>\n",
       "    </tr>\n",
       "    <tr>\n",
       "      <th>1</th>\n",
       "      <td>1</td>\n",
       "      <td>2022-01-01 00:20:55</td>\n",
       "      <td>2022-01-01 00:29:38</td>\n",
       "      <td>N</td>\n",
       "      <td>1.0</td>\n",
       "      <td>116</td>\n",
       "      <td>41</td>\n",
       "      <td>1.0</td>\n",
       "      <td>2.10</td>\n",
       "      <td>9.50</td>\n",
       "      <td>...</td>\n",
       "      <td>0.0</td>\n",
       "      <td>None</td>\n",
       "      <td>0.3</td>\n",
       "      <td>10.80</td>\n",
       "      <td>2.0</td>\n",
       "      <td>1.0</td>\n",
       "      <td>0.00</td>\n",
       "      <td>Manhattan</td>\n",
       "      <td>Hamilton Heights</td>\n",
       "      <td>Boro Zone</td>\n",
       "    </tr>\n",
       "    <tr>\n",
       "      <th>2</th>\n",
       "      <td>1</td>\n",
       "      <td>2022-01-01 00:57:02</td>\n",
       "      <td>2022-01-01 01:13:14</td>\n",
       "      <td>N</td>\n",
       "      <td>1.0</td>\n",
       "      <td>41</td>\n",
       "      <td>140</td>\n",
       "      <td>1.0</td>\n",
       "      <td>3.70</td>\n",
       "      <td>14.50</td>\n",
       "      <td>...</td>\n",
       "      <td>0.0</td>\n",
       "      <td>None</td>\n",
       "      <td>0.3</td>\n",
       "      <td>23.15</td>\n",
       "      <td>1.0</td>\n",
       "      <td>1.0</td>\n",
       "      <td>2.75</td>\n",
       "      <td>Manhattan</td>\n",
       "      <td>Central Harlem</td>\n",
       "      <td>Boro Zone</td>\n",
       "    </tr>\n",
       "    <tr>\n",
       "      <th>3</th>\n",
       "      <td>2</td>\n",
       "      <td>2022-01-01 00:07:42</td>\n",
       "      <td>2022-01-01 00:15:57</td>\n",
       "      <td>N</td>\n",
       "      <td>1.0</td>\n",
       "      <td>181</td>\n",
       "      <td>181</td>\n",
       "      <td>1.0</td>\n",
       "      <td>1.69</td>\n",
       "      <td>8.00</td>\n",
       "      <td>...</td>\n",
       "      <td>0.0</td>\n",
       "      <td>None</td>\n",
       "      <td>0.3</td>\n",
       "      <td>9.30</td>\n",
       "      <td>2.0</td>\n",
       "      <td>1.0</td>\n",
       "      <td>0.00</td>\n",
       "      <td>Brooklyn</td>\n",
       "      <td>Park Slope</td>\n",
       "      <td>Boro Zone</td>\n",
       "    </tr>\n",
       "    <tr>\n",
       "      <th>4</th>\n",
       "      <td>2</td>\n",
       "      <td>2022-01-01 00:07:50</td>\n",
       "      <td>2022-01-01 00:28:52</td>\n",
       "      <td>N</td>\n",
       "      <td>1.0</td>\n",
       "      <td>33</td>\n",
       "      <td>170</td>\n",
       "      <td>1.0</td>\n",
       "      <td>6.26</td>\n",
       "      <td>22.00</td>\n",
       "      <td>...</td>\n",
       "      <td>0.0</td>\n",
       "      <td>None</td>\n",
       "      <td>0.3</td>\n",
       "      <td>31.26</td>\n",
       "      <td>1.0</td>\n",
       "      <td>1.0</td>\n",
       "      <td>2.75</td>\n",
       "      <td>Brooklyn</td>\n",
       "      <td>Brooklyn Heights</td>\n",
       "      <td>Boro Zone</td>\n",
       "    </tr>\n",
       "    <tr>\n",
       "      <th>...</th>\n",
       "      <td>...</td>\n",
       "      <td>...</td>\n",
       "      <td>...</td>\n",
       "      <td>...</td>\n",
       "      <td>...</td>\n",
       "      <td>...</td>\n",
       "      <td>...</td>\n",
       "      <td>...</td>\n",
       "      <td>...</td>\n",
       "      <td>...</td>\n",
       "      <td>...</td>\n",
       "      <td>...</td>\n",
       "      <td>...</td>\n",
       "      <td>...</td>\n",
       "      <td>...</td>\n",
       "      <td>...</td>\n",
       "      <td>...</td>\n",
       "      <td>...</td>\n",
       "      <td>...</td>\n",
       "      <td>...</td>\n",
       "      <td>...</td>\n",
       "    </tr>\n",
       "    <tr>\n",
       "      <th>908608</th>\n",
       "      <td>2</td>\n",
       "      <td>2023-01-31 22:29:00</td>\n",
       "      <td>2023-01-31 22:42:00</td>\n",
       "      <td>None</td>\n",
       "      <td>NaN</td>\n",
       "      <td>49</td>\n",
       "      <td>62</td>\n",
       "      <td>NaN</td>\n",
       "      <td>4070.82</td>\n",
       "      <td>15.70</td>\n",
       "      <td>...</td>\n",
       "      <td>0.0</td>\n",
       "      <td>None</td>\n",
       "      <td>1.0</td>\n",
       "      <td>16.70</td>\n",
       "      <td>NaN</td>\n",
       "      <td>NaN</td>\n",
       "      <td>NaN</td>\n",
       "      <td>Brooklyn</td>\n",
       "      <td>Clinton Hill</td>\n",
       "      <td>Boro Zone</td>\n",
       "    </tr>\n",
       "    <tr>\n",
       "      <th>908609</th>\n",
       "      <td>2</td>\n",
       "      <td>2023-01-31 22:40:00</td>\n",
       "      <td>2023-01-31 22:48:00</td>\n",
       "      <td>None</td>\n",
       "      <td>NaN</td>\n",
       "      <td>10</td>\n",
       "      <td>205</td>\n",
       "      <td>NaN</td>\n",
       "      <td>2.14</td>\n",
       "      <td>4.41</td>\n",
       "      <td>...</td>\n",
       "      <td>0.0</td>\n",
       "      <td>None</td>\n",
       "      <td>1.0</td>\n",
       "      <td>5.41</td>\n",
       "      <td>NaN</td>\n",
       "      <td>NaN</td>\n",
       "      <td>NaN</td>\n",
       "      <td>Queens</td>\n",
       "      <td>Baisley Park</td>\n",
       "      <td>Boro Zone</td>\n",
       "    </tr>\n",
       "    <tr>\n",
       "      <th>908610</th>\n",
       "      <td>2</td>\n",
       "      <td>2023-01-31 23:46:00</td>\n",
       "      <td>2023-02-01 00:02:00</td>\n",
       "      <td>None</td>\n",
       "      <td>NaN</td>\n",
       "      <td>66</td>\n",
       "      <td>37</td>\n",
       "      <td>NaN</td>\n",
       "      <td>3.44</td>\n",
       "      <td>16.53</td>\n",
       "      <td>...</td>\n",
       "      <td>0.0</td>\n",
       "      <td>None</td>\n",
       "      <td>1.0</td>\n",
       "      <td>21.04</td>\n",
       "      <td>NaN</td>\n",
       "      <td>NaN</td>\n",
       "      <td>NaN</td>\n",
       "      <td>Brooklyn</td>\n",
       "      <td>DUMBO/Vinegar Hill</td>\n",
       "      <td>Boro Zone</td>\n",
       "    </tr>\n",
       "    <tr>\n",
       "      <th>908611</th>\n",
       "      <td>2</td>\n",
       "      <td>2023-01-31 23:01:00</td>\n",
       "      <td>2023-01-31 23:19:00</td>\n",
       "      <td>None</td>\n",
       "      <td>NaN</td>\n",
       "      <td>225</td>\n",
       "      <td>189</td>\n",
       "      <td>NaN</td>\n",
       "      <td>3.03</td>\n",
       "      <td>14.98</td>\n",
       "      <td>...</td>\n",
       "      <td>0.0</td>\n",
       "      <td>None</td>\n",
       "      <td>1.0</td>\n",
       "      <td>19.18</td>\n",
       "      <td>NaN</td>\n",
       "      <td>NaN</td>\n",
       "      <td>NaN</td>\n",
       "      <td>Brooklyn</td>\n",
       "      <td>Stuyvesant Heights</td>\n",
       "      <td>Boro Zone</td>\n",
       "    </tr>\n",
       "    <tr>\n",
       "      <th>908612</th>\n",
       "      <td>2</td>\n",
       "      <td>2023-01-31 23:51:00</td>\n",
       "      <td>2023-02-01 00:07:00</td>\n",
       "      <td>None</td>\n",
       "      <td>NaN</td>\n",
       "      <td>256</td>\n",
       "      <td>140</td>\n",
       "      <td>NaN</td>\n",
       "      <td>5.82</td>\n",
       "      <td>23.65</td>\n",
       "      <td>...</td>\n",
       "      <td>0.0</td>\n",
       "      <td>None</td>\n",
       "      <td>1.0</td>\n",
       "      <td>29.40</td>\n",
       "      <td>NaN</td>\n",
       "      <td>NaN</td>\n",
       "      <td>NaN</td>\n",
       "      <td>Brooklyn</td>\n",
       "      <td>Williamsburg (South Side)</td>\n",
       "      <td>Boro Zone</td>\n",
       "    </tr>\n",
       "  </tbody>\n",
       "</table>\n",
       "<p>908613 rows × 23 columns</p>\n",
       "</div>"
      ],
      "text/plain": [
       "        VendorID lpep_pickup_datetime lpep_dropoff_datetime  \\\n",
       "0              2  2022-01-01 00:14:21   2022-01-01 00:15:33   \n",
       "1              1  2022-01-01 00:20:55   2022-01-01 00:29:38   \n",
       "2              1  2022-01-01 00:57:02   2022-01-01 01:13:14   \n",
       "3              2  2022-01-01 00:07:42   2022-01-01 00:15:57   \n",
       "4              2  2022-01-01 00:07:50   2022-01-01 00:28:52   \n",
       "...          ...                  ...                   ...   \n",
       "908608         2  2023-01-31 22:29:00   2023-01-31 22:42:00   \n",
       "908609         2  2023-01-31 22:40:00   2023-01-31 22:48:00   \n",
       "908610         2  2023-01-31 23:46:00   2023-02-01 00:02:00   \n",
       "908611         2  2023-01-31 23:01:00   2023-01-31 23:19:00   \n",
       "908612         2  2023-01-31 23:51:00   2023-02-01 00:07:00   \n",
       "\n",
       "       store_and_fwd_flag  RatecodeID  PULocationID  DOLocationID  \\\n",
       "0                       N         1.0            42            42   \n",
       "1                       N         1.0           116            41   \n",
       "2                       N         1.0            41           140   \n",
       "3                       N         1.0           181           181   \n",
       "4                       N         1.0            33           170   \n",
       "...                   ...         ...           ...           ...   \n",
       "908608               None         NaN            49            62   \n",
       "908609               None         NaN            10           205   \n",
       "908610               None         NaN            66            37   \n",
       "908611               None         NaN           225           189   \n",
       "908612               None         NaN           256           140   \n",
       "\n",
       "        passenger_count  trip_distance  fare_amount  ...  tolls_amount  \\\n",
       "0                   1.0           0.44         3.50  ...           0.0   \n",
       "1                   1.0           2.10         9.50  ...           0.0   \n",
       "2                   1.0           3.70        14.50  ...           0.0   \n",
       "3                   1.0           1.69         8.00  ...           0.0   \n",
       "4                   1.0           6.26        22.00  ...           0.0   \n",
       "...                 ...            ...          ...  ...           ...   \n",
       "908608              NaN        4070.82        15.70  ...           0.0   \n",
       "908609              NaN           2.14         4.41  ...           0.0   \n",
       "908610              NaN           3.44        16.53  ...           0.0   \n",
       "908611              NaN           3.03        14.98  ...           0.0   \n",
       "908612              NaN           5.82        23.65  ...           0.0   \n",
       "\n",
       "        ehail_fee  improvement_surcharge  total_amount payment_type  \\\n",
       "0            None                    0.3          4.80          2.0   \n",
       "1            None                    0.3         10.80          2.0   \n",
       "2            None                    0.3         23.15          1.0   \n",
       "3            None                    0.3          9.30          2.0   \n",
       "4            None                    0.3         31.26          1.0   \n",
       "...           ...                    ...           ...          ...   \n",
       "908608       None                    1.0         16.70          NaN   \n",
       "908609       None                    1.0          5.41          NaN   \n",
       "908610       None                    1.0         21.04          NaN   \n",
       "908611       None                    1.0         19.18          NaN   \n",
       "908612       None                    1.0         29.40          NaN   \n",
       "\n",
       "        trip_type  congestion_surcharge  pickup_borough  \\\n",
       "0             1.0                  0.00       Manhattan   \n",
       "1             1.0                  0.00       Manhattan   \n",
       "2             1.0                  2.75       Manhattan   \n",
       "3             1.0                  0.00        Brooklyn   \n",
       "4             1.0                  2.75        Brooklyn   \n",
       "...           ...                   ...             ...   \n",
       "908608        NaN                   NaN        Brooklyn   \n",
       "908609        NaN                   NaN          Queens   \n",
       "908610        NaN                   NaN        Brooklyn   \n",
       "908611        NaN                   NaN        Brooklyn   \n",
       "908612        NaN                   NaN        Brooklyn   \n",
       "\n",
       "                      pickup_zone  pickup_service_zone  \n",
       "0            Central Harlem North            Boro Zone  \n",
       "1                Hamilton Heights            Boro Zone  \n",
       "2                  Central Harlem            Boro Zone  \n",
       "3                      Park Slope            Boro Zone  \n",
       "4                Brooklyn Heights            Boro Zone  \n",
       "...                           ...                  ...  \n",
       "908608               Clinton Hill            Boro Zone  \n",
       "908609               Baisley Park            Boro Zone  \n",
       "908610         DUMBO/Vinegar Hill            Boro Zone  \n",
       "908611         Stuyvesant Heights            Boro Zone  \n",
       "908612  Williamsburg (South Side)            Boro Zone  \n",
       "\n",
       "[908613 rows x 23 columns]"
      ]
     },
     "execution_count": 190,
     "metadata": {},
     "output_type": "execute_result"
    }
   ],
   "source": [
    "#Pickup Location Zone Merge\n",
    "df = df.merge(taxizone_df,how='left',left_on='PULocationID',right_on='LocationID')\n",
    "df.drop(columns = ['LocationID'],axis = 1,inplace  = True)\n",
    "df.rename(columns = {'Borough' : 'pickup_borough', 'Zone' : 'pickup_zone', 'service_zone' : 'pickup_service_zone'},inplace = True)\n",
    "df"
   ]
  },
  {
   "cell_type": "markdown",
   "metadata": {
    "cell_id": "256013c0de734d04bead914c941a8e1a",
    "deepnote_cell_type": "text-cell-p",
    "formattedRanges": [],
    "id": "NB-lCUSUnPkV"
   },
   "source": [
    "Merging Taxizone Data for Dropoff."
   ]
  },
  {
   "cell_type": "code",
   "execution_count": 191,
   "metadata": {
    "cell_id": "20a83d95f14a42658dcffe235bdd0e66",
    "colab": {
     "base_uri": "https://localhost:8080/",
     "height": 696
    },
    "deepnote_cell_type": "code",
    "deepnote_to_be_reexecuted": false,
    "execution_millis": 1088,
    "execution_start": 1682719488111,
    "id": "c7sYiSl8nPkV",
    "outputId": "507fcbcf-45df-466b-80e2-9e448e98dba3",
    "source_hash": "950f87b2"
   },
   "outputs": [
    {
     "data": {
      "text/html": [
       "<div>\n",
       "<style scoped>\n",
       "    .dataframe tbody tr th:only-of-type {\n",
       "        vertical-align: middle;\n",
       "    }\n",
       "\n",
       "    .dataframe tbody tr th {\n",
       "        vertical-align: top;\n",
       "    }\n",
       "\n",
       "    .dataframe thead th {\n",
       "        text-align: right;\n",
       "    }\n",
       "</style>\n",
       "<table border=\"1\" class=\"dataframe\">\n",
       "  <thead>\n",
       "    <tr style=\"text-align: right;\">\n",
       "      <th></th>\n",
       "      <th>VendorID</th>\n",
       "      <th>lpep_pickup_datetime</th>\n",
       "      <th>lpep_dropoff_datetime</th>\n",
       "      <th>store_and_fwd_flag</th>\n",
       "      <th>RatecodeID</th>\n",
       "      <th>PULocationID</th>\n",
       "      <th>DOLocationID</th>\n",
       "      <th>passenger_count</th>\n",
       "      <th>trip_distance</th>\n",
       "      <th>fare_amount</th>\n",
       "      <th>...</th>\n",
       "      <th>total_amount</th>\n",
       "      <th>payment_type</th>\n",
       "      <th>trip_type</th>\n",
       "      <th>congestion_surcharge</th>\n",
       "      <th>pickup_borough</th>\n",
       "      <th>pickup_zone</th>\n",
       "      <th>pickup_service_zone</th>\n",
       "      <th>drop_borough</th>\n",
       "      <th>drop_zone</th>\n",
       "      <th>drop_service_zone</th>\n",
       "    </tr>\n",
       "  </thead>\n",
       "  <tbody>\n",
       "    <tr>\n",
       "      <th>0</th>\n",
       "      <td>2</td>\n",
       "      <td>2022-01-01 00:14:21</td>\n",
       "      <td>2022-01-01 00:15:33</td>\n",
       "      <td>N</td>\n",
       "      <td>1.0</td>\n",
       "      <td>42</td>\n",
       "      <td>42</td>\n",
       "      <td>1.0</td>\n",
       "      <td>0.44</td>\n",
       "      <td>3.50</td>\n",
       "      <td>...</td>\n",
       "      <td>4.80</td>\n",
       "      <td>2.0</td>\n",
       "      <td>1.0</td>\n",
       "      <td>0.00</td>\n",
       "      <td>Manhattan</td>\n",
       "      <td>Central Harlem North</td>\n",
       "      <td>Boro Zone</td>\n",
       "      <td>Manhattan</td>\n",
       "      <td>Central Harlem North</td>\n",
       "      <td>Boro Zone</td>\n",
       "    </tr>\n",
       "    <tr>\n",
       "      <th>1</th>\n",
       "      <td>1</td>\n",
       "      <td>2022-01-01 00:20:55</td>\n",
       "      <td>2022-01-01 00:29:38</td>\n",
       "      <td>N</td>\n",
       "      <td>1.0</td>\n",
       "      <td>116</td>\n",
       "      <td>41</td>\n",
       "      <td>1.0</td>\n",
       "      <td>2.10</td>\n",
       "      <td>9.50</td>\n",
       "      <td>...</td>\n",
       "      <td>10.80</td>\n",
       "      <td>2.0</td>\n",
       "      <td>1.0</td>\n",
       "      <td>0.00</td>\n",
       "      <td>Manhattan</td>\n",
       "      <td>Hamilton Heights</td>\n",
       "      <td>Boro Zone</td>\n",
       "      <td>Manhattan</td>\n",
       "      <td>Central Harlem</td>\n",
       "      <td>Boro Zone</td>\n",
       "    </tr>\n",
       "    <tr>\n",
       "      <th>2</th>\n",
       "      <td>1</td>\n",
       "      <td>2022-01-01 00:57:02</td>\n",
       "      <td>2022-01-01 01:13:14</td>\n",
       "      <td>N</td>\n",
       "      <td>1.0</td>\n",
       "      <td>41</td>\n",
       "      <td>140</td>\n",
       "      <td>1.0</td>\n",
       "      <td>3.70</td>\n",
       "      <td>14.50</td>\n",
       "      <td>...</td>\n",
       "      <td>23.15</td>\n",
       "      <td>1.0</td>\n",
       "      <td>1.0</td>\n",
       "      <td>2.75</td>\n",
       "      <td>Manhattan</td>\n",
       "      <td>Central Harlem</td>\n",
       "      <td>Boro Zone</td>\n",
       "      <td>Manhattan</td>\n",
       "      <td>Lenox Hill East</td>\n",
       "      <td>Yellow Zone</td>\n",
       "    </tr>\n",
       "    <tr>\n",
       "      <th>3</th>\n",
       "      <td>2</td>\n",
       "      <td>2022-01-01 00:07:42</td>\n",
       "      <td>2022-01-01 00:15:57</td>\n",
       "      <td>N</td>\n",
       "      <td>1.0</td>\n",
       "      <td>181</td>\n",
       "      <td>181</td>\n",
       "      <td>1.0</td>\n",
       "      <td>1.69</td>\n",
       "      <td>8.00</td>\n",
       "      <td>...</td>\n",
       "      <td>9.30</td>\n",
       "      <td>2.0</td>\n",
       "      <td>1.0</td>\n",
       "      <td>0.00</td>\n",
       "      <td>Brooklyn</td>\n",
       "      <td>Park Slope</td>\n",
       "      <td>Boro Zone</td>\n",
       "      <td>Brooklyn</td>\n",
       "      <td>Park Slope</td>\n",
       "      <td>Boro Zone</td>\n",
       "    </tr>\n",
       "    <tr>\n",
       "      <th>4</th>\n",
       "      <td>2</td>\n",
       "      <td>2022-01-01 00:07:50</td>\n",
       "      <td>2022-01-01 00:28:52</td>\n",
       "      <td>N</td>\n",
       "      <td>1.0</td>\n",
       "      <td>33</td>\n",
       "      <td>170</td>\n",
       "      <td>1.0</td>\n",
       "      <td>6.26</td>\n",
       "      <td>22.00</td>\n",
       "      <td>...</td>\n",
       "      <td>31.26</td>\n",
       "      <td>1.0</td>\n",
       "      <td>1.0</td>\n",
       "      <td>2.75</td>\n",
       "      <td>Brooklyn</td>\n",
       "      <td>Brooklyn Heights</td>\n",
       "      <td>Boro Zone</td>\n",
       "      <td>Manhattan</td>\n",
       "      <td>Murray Hill</td>\n",
       "      <td>Yellow Zone</td>\n",
       "    </tr>\n",
       "    <tr>\n",
       "      <th>...</th>\n",
       "      <td>...</td>\n",
       "      <td>...</td>\n",
       "      <td>...</td>\n",
       "      <td>...</td>\n",
       "      <td>...</td>\n",
       "      <td>...</td>\n",
       "      <td>...</td>\n",
       "      <td>...</td>\n",
       "      <td>...</td>\n",
       "      <td>...</td>\n",
       "      <td>...</td>\n",
       "      <td>...</td>\n",
       "      <td>...</td>\n",
       "      <td>...</td>\n",
       "      <td>...</td>\n",
       "      <td>...</td>\n",
       "      <td>...</td>\n",
       "      <td>...</td>\n",
       "      <td>...</td>\n",
       "      <td>...</td>\n",
       "      <td>...</td>\n",
       "    </tr>\n",
       "    <tr>\n",
       "      <th>908608</th>\n",
       "      <td>2</td>\n",
       "      <td>2023-01-31 22:29:00</td>\n",
       "      <td>2023-01-31 22:42:00</td>\n",
       "      <td>None</td>\n",
       "      <td>NaN</td>\n",
       "      <td>49</td>\n",
       "      <td>62</td>\n",
       "      <td>NaN</td>\n",
       "      <td>4070.82</td>\n",
       "      <td>15.70</td>\n",
       "      <td>...</td>\n",
       "      <td>16.70</td>\n",
       "      <td>NaN</td>\n",
       "      <td>NaN</td>\n",
       "      <td>NaN</td>\n",
       "      <td>Brooklyn</td>\n",
       "      <td>Clinton Hill</td>\n",
       "      <td>Boro Zone</td>\n",
       "      <td>Brooklyn</td>\n",
       "      <td>Crown Heights South</td>\n",
       "      <td>Boro Zone</td>\n",
       "    </tr>\n",
       "    <tr>\n",
       "      <th>908609</th>\n",
       "      <td>2</td>\n",
       "      <td>2023-01-31 22:40:00</td>\n",
       "      <td>2023-01-31 22:48:00</td>\n",
       "      <td>None</td>\n",
       "      <td>NaN</td>\n",
       "      <td>10</td>\n",
       "      <td>205</td>\n",
       "      <td>NaN</td>\n",
       "      <td>2.14</td>\n",
       "      <td>4.41</td>\n",
       "      <td>...</td>\n",
       "      <td>5.41</td>\n",
       "      <td>NaN</td>\n",
       "      <td>NaN</td>\n",
       "      <td>NaN</td>\n",
       "      <td>Queens</td>\n",
       "      <td>Baisley Park</td>\n",
       "      <td>Boro Zone</td>\n",
       "      <td>Queens</td>\n",
       "      <td>Saint Albans</td>\n",
       "      <td>Boro Zone</td>\n",
       "    </tr>\n",
       "    <tr>\n",
       "      <th>908610</th>\n",
       "      <td>2</td>\n",
       "      <td>2023-01-31 23:46:00</td>\n",
       "      <td>2023-02-01 00:02:00</td>\n",
       "      <td>None</td>\n",
       "      <td>NaN</td>\n",
       "      <td>66</td>\n",
       "      <td>37</td>\n",
       "      <td>NaN</td>\n",
       "      <td>3.44</td>\n",
       "      <td>16.53</td>\n",
       "      <td>...</td>\n",
       "      <td>21.04</td>\n",
       "      <td>NaN</td>\n",
       "      <td>NaN</td>\n",
       "      <td>NaN</td>\n",
       "      <td>Brooklyn</td>\n",
       "      <td>DUMBO/Vinegar Hill</td>\n",
       "      <td>Boro Zone</td>\n",
       "      <td>Brooklyn</td>\n",
       "      <td>Bushwick South</td>\n",
       "      <td>Boro Zone</td>\n",
       "    </tr>\n",
       "    <tr>\n",
       "      <th>908611</th>\n",
       "      <td>2</td>\n",
       "      <td>2023-01-31 23:01:00</td>\n",
       "      <td>2023-01-31 23:19:00</td>\n",
       "      <td>None</td>\n",
       "      <td>NaN</td>\n",
       "      <td>225</td>\n",
       "      <td>189</td>\n",
       "      <td>NaN</td>\n",
       "      <td>3.03</td>\n",
       "      <td>14.98</td>\n",
       "      <td>...</td>\n",
       "      <td>19.18</td>\n",
       "      <td>NaN</td>\n",
       "      <td>NaN</td>\n",
       "      <td>NaN</td>\n",
       "      <td>Brooklyn</td>\n",
       "      <td>Stuyvesant Heights</td>\n",
       "      <td>Boro Zone</td>\n",
       "      <td>Brooklyn</td>\n",
       "      <td>Prospect Heights</td>\n",
       "      <td>Boro Zone</td>\n",
       "    </tr>\n",
       "    <tr>\n",
       "      <th>908612</th>\n",
       "      <td>2</td>\n",
       "      <td>2023-01-31 23:51:00</td>\n",
       "      <td>2023-02-01 00:07:00</td>\n",
       "      <td>None</td>\n",
       "      <td>NaN</td>\n",
       "      <td>256</td>\n",
       "      <td>140</td>\n",
       "      <td>NaN</td>\n",
       "      <td>5.82</td>\n",
       "      <td>23.65</td>\n",
       "      <td>...</td>\n",
       "      <td>29.40</td>\n",
       "      <td>NaN</td>\n",
       "      <td>NaN</td>\n",
       "      <td>NaN</td>\n",
       "      <td>Brooklyn</td>\n",
       "      <td>Williamsburg (South Side)</td>\n",
       "      <td>Boro Zone</td>\n",
       "      <td>Manhattan</td>\n",
       "      <td>Lenox Hill East</td>\n",
       "      <td>Yellow Zone</td>\n",
       "    </tr>\n",
       "  </tbody>\n",
       "</table>\n",
       "<p>908613 rows × 26 columns</p>\n",
       "</div>"
      ],
      "text/plain": [
       "        VendorID lpep_pickup_datetime lpep_dropoff_datetime  \\\n",
       "0              2  2022-01-01 00:14:21   2022-01-01 00:15:33   \n",
       "1              1  2022-01-01 00:20:55   2022-01-01 00:29:38   \n",
       "2              1  2022-01-01 00:57:02   2022-01-01 01:13:14   \n",
       "3              2  2022-01-01 00:07:42   2022-01-01 00:15:57   \n",
       "4              2  2022-01-01 00:07:50   2022-01-01 00:28:52   \n",
       "...          ...                  ...                   ...   \n",
       "908608         2  2023-01-31 22:29:00   2023-01-31 22:42:00   \n",
       "908609         2  2023-01-31 22:40:00   2023-01-31 22:48:00   \n",
       "908610         2  2023-01-31 23:46:00   2023-02-01 00:02:00   \n",
       "908611         2  2023-01-31 23:01:00   2023-01-31 23:19:00   \n",
       "908612         2  2023-01-31 23:51:00   2023-02-01 00:07:00   \n",
       "\n",
       "       store_and_fwd_flag  RatecodeID  PULocationID  DOLocationID  \\\n",
       "0                       N         1.0            42            42   \n",
       "1                       N         1.0           116            41   \n",
       "2                       N         1.0            41           140   \n",
       "3                       N         1.0           181           181   \n",
       "4                       N         1.0            33           170   \n",
       "...                   ...         ...           ...           ...   \n",
       "908608               None         NaN            49            62   \n",
       "908609               None         NaN            10           205   \n",
       "908610               None         NaN            66            37   \n",
       "908611               None         NaN           225           189   \n",
       "908612               None         NaN           256           140   \n",
       "\n",
       "        passenger_count  trip_distance  fare_amount  ...  total_amount  \\\n",
       "0                   1.0           0.44         3.50  ...          4.80   \n",
       "1                   1.0           2.10         9.50  ...         10.80   \n",
       "2                   1.0           3.70        14.50  ...         23.15   \n",
       "3                   1.0           1.69         8.00  ...          9.30   \n",
       "4                   1.0           6.26        22.00  ...         31.26   \n",
       "...                 ...            ...          ...  ...           ...   \n",
       "908608              NaN        4070.82        15.70  ...         16.70   \n",
       "908609              NaN           2.14         4.41  ...          5.41   \n",
       "908610              NaN           3.44        16.53  ...         21.04   \n",
       "908611              NaN           3.03        14.98  ...         19.18   \n",
       "908612              NaN           5.82        23.65  ...         29.40   \n",
       "\n",
       "        payment_type  trip_type  congestion_surcharge pickup_borough  \\\n",
       "0                2.0        1.0                  0.00      Manhattan   \n",
       "1                2.0        1.0                  0.00      Manhattan   \n",
       "2                1.0        1.0                  2.75      Manhattan   \n",
       "3                2.0        1.0                  0.00       Brooklyn   \n",
       "4                1.0        1.0                  2.75       Brooklyn   \n",
       "...              ...        ...                   ...            ...   \n",
       "908608           NaN        NaN                   NaN       Brooklyn   \n",
       "908609           NaN        NaN                   NaN         Queens   \n",
       "908610           NaN        NaN                   NaN       Brooklyn   \n",
       "908611           NaN        NaN                   NaN       Brooklyn   \n",
       "908612           NaN        NaN                   NaN       Brooklyn   \n",
       "\n",
       "                      pickup_zone  pickup_service_zone  drop_borough  \\\n",
       "0            Central Harlem North            Boro Zone     Manhattan   \n",
       "1                Hamilton Heights            Boro Zone     Manhattan   \n",
       "2                  Central Harlem            Boro Zone     Manhattan   \n",
       "3                      Park Slope            Boro Zone      Brooklyn   \n",
       "4                Brooklyn Heights            Boro Zone     Manhattan   \n",
       "...                           ...                  ...           ...   \n",
       "908608               Clinton Hill            Boro Zone      Brooklyn   \n",
       "908609               Baisley Park            Boro Zone        Queens   \n",
       "908610         DUMBO/Vinegar Hill            Boro Zone      Brooklyn   \n",
       "908611         Stuyvesant Heights            Boro Zone      Brooklyn   \n",
       "908612  Williamsburg (South Side)            Boro Zone     Manhattan   \n",
       "\n",
       "                   drop_zone  drop_service_zone  \n",
       "0       Central Harlem North          Boro Zone  \n",
       "1             Central Harlem          Boro Zone  \n",
       "2            Lenox Hill East        Yellow Zone  \n",
       "3                 Park Slope          Boro Zone  \n",
       "4                Murray Hill        Yellow Zone  \n",
       "...                      ...                ...  \n",
       "908608   Crown Heights South          Boro Zone  \n",
       "908609          Saint Albans          Boro Zone  \n",
       "908610        Bushwick South          Boro Zone  \n",
       "908611      Prospect Heights          Boro Zone  \n",
       "908612       Lenox Hill East        Yellow Zone  \n",
       "\n",
       "[908613 rows x 26 columns]"
      ]
     },
     "execution_count": 191,
     "metadata": {},
     "output_type": "execute_result"
    }
   ],
   "source": [
    "#Pickup Location Zone Merge\n",
    "df = df.merge(taxizone_df,how='left',left_on='DOLocationID',right_on='LocationID')\n",
    "df.drop(columns = ['LocationID'],axis = 1,inplace  = True)\n",
    "df.rename(columns = {'Borough' : 'drop_borough', 'Zone' : 'drop_zone', 'service_zone' : 'drop_service_zone'},inplace = True)\n",
    "df"
   ]
  },
  {
   "cell_type": "markdown",
   "metadata": {
    "cell_id": "836476dbe73344c7bbb4fe34ca12d35e",
    "deepnote_cell_type": "text-cell-h1",
    "formattedRanges": [],
    "is_collapsed": false
   },
   "source": [
    "# Dropping all unwanted columns"
   ]
  },
  {
   "cell_type": "code",
   "execution_count": 192,
   "metadata": {
    "cell_id": "8345df411a0948f8959854383c0bf3d2",
    "deepnote_cell_type": "code",
    "deepnote_to_be_reexecuted": false,
    "execution_millis": 278,
    "execution_start": 1682719489201,
    "id": "4w5H8hLYnPkW",
    "source_hash": "97f37a72"
   },
   "outputs": [],
   "source": [
    "df.dropna(axis =1,how = 'all', inplace = True)"
   ]
  },
  {
   "cell_type": "markdown",
   "metadata": {
    "cell_id": "702276c149a34b158a3f9f32cc6d1f8e",
    "deepnote_cell_type": "text-cell-p",
    "formattedRanges": [],
    "id": "AV6cV2F_nPkW"
   },
   "source": [
    "Checking for NULL/NA values"
   ]
  },
  {
   "cell_type": "code",
   "execution_count": 193,
   "metadata": {
    "cell_id": "ed46b203e3ec43b285bc82d70fd9ca43",
    "colab": {
     "base_uri": "https://localhost:8080/"
    },
    "deepnote_cell_type": "code",
    "deepnote_to_be_reexecuted": false,
    "execution_millis": 184,
    "execution_start": 1682719489655,
    "id": "h79xLOgynPkW",
    "outputId": "cb0669ab-356b-4b83-db54-0591227fec93",
    "source_hash": "d794f466"
   },
   "outputs": [
    {
     "data": {
      "text/plain": [
       "VendorID                     0\n",
       "lpep_pickup_datetime         0\n",
       "lpep_dropoff_datetime        0\n",
       "store_and_fwd_flag       94664\n",
       "RatecodeID               94664\n",
       "PULocationID                 0\n",
       "DOLocationID                 0\n",
       "passenger_count          94664\n",
       "trip_distance                0\n",
       "fare_amount                  0\n",
       "extra                        0\n",
       "mta_tax                      0\n",
       "tip_amount                   0\n",
       "tolls_amount                 0\n",
       "improvement_surcharge        0\n",
       "total_amount                 0\n",
       "payment_type             94664\n",
       "trip_type                94689\n",
       "congestion_surcharge     94664\n",
       "pickup_borough               0\n",
       "pickup_zone               1115\n",
       "pickup_service_zone       4068\n",
       "drop_borough                 0\n",
       "drop_zone                 4216\n",
       "drop_service_zone        13292\n",
       "dtype: int64"
      ]
     },
     "execution_count": 193,
     "metadata": {},
     "output_type": "execute_result"
    }
   ],
   "source": [
    "df.isna().sum()"
   ]
  },
  {
   "cell_type": "markdown",
   "metadata": {
    "cell_id": "f1d713091e804857b6b04a73446e45bc",
    "deepnote_cell_type": "markdown",
    "id": "8rdRN1ecnPkW"
   },
   "source": [
    "Handling missing values"
   ]
  },
  {
   "cell_type": "code",
   "execution_count": 194,
   "metadata": {
    "cell_id": "c6c8a420c44241838d97cba3262ff895",
    "colab": {
     "base_uri": "https://localhost:8080/"
    },
    "deepnote_cell_type": "code",
    "deepnote_to_be_reexecuted": false,
    "execution_millis": 108,
    "execution_start": 1682719490095,
    "id": "fSoKjrK3nPkW",
    "outputId": "560150a7-3f93-422a-f2d5-7fb0092bf24e",
    "source_hash": "7117c330"
   },
   "outputs": [
    {
     "data": {
      "text/plain": [
       "LocationID      0\n",
       "Borough         0\n",
       "Zone            1\n",
       "service_zone    2\n",
       "dtype: int64"
      ]
     },
     "execution_count": 194,
     "metadata": {},
     "output_type": "execute_result"
    }
   ],
   "source": [
    "taxizone_df.isna().sum()"
   ]
  },
  {
   "cell_type": "code",
   "execution_count": 195,
   "metadata": {
    "cell_id": "aa47c971ad104d21ae4b8c128480472f",
    "colab": {
     "base_uri": "https://localhost:8080/"
    },
    "deepnote_cell_type": "code",
    "deepnote_to_be_reexecuted": false,
    "execution_millis": 3,
    "execution_start": 1682719490270,
    "id": "INp2fQQZnPkX",
    "outputId": "a76204d2-a7d3-4da8-a5ce-10493a1e6a27",
    "source_hash": "14f60b8f"
   },
   "outputs": [
    {
     "data": {
      "text/plain": [
       "(908613, 25)"
      ]
     },
     "execution_count": 195,
     "metadata": {},
     "output_type": "execute_result"
    }
   ],
   "source": [
    "df.shape"
   ]
  },
  {
   "cell_type": "code",
   "execution_count": 196,
   "metadata": {
    "cell_id": "3456535a2f42446e8023ab8c6ae69eb0",
    "colab": {
     "base_uri": "https://localhost:8080/"
    },
    "deepnote_cell_type": "code",
    "deepnote_to_be_reexecuted": false,
    "execution_millis": 5,
    "execution_start": 1682719490273,
    "id": "1I9TXeBrnPkX",
    "outputId": "a7736ec8-0924-4cc0-babd-776d9ded3b22",
    "source_hash": "f92fee59"
   },
   "outputs": [
    {
     "data": {
      "text/plain": [
       "LocationID      0\n",
       "Borough         0\n",
       "Zone            0\n",
       "service_zone    0\n",
       "dtype: int64"
      ]
     },
     "execution_count": 196,
     "metadata": {},
     "output_type": "execute_result"
    }
   ],
   "source": [
    "taxizone_df = taxizone_df.dropna()\n",
    "taxizone_df.isna().sum()"
   ]
  },
  {
   "cell_type": "markdown",
   "metadata": {
    "cell_id": "0ad6aa5e8aa74c5fb28d43f18529f146",
    "deepnote_cell_type": "markdown",
    "id": "A_G6eN2gnPkY"
   },
   "source": [
    "Handling outliers for the trip distance attribute"
   ]
  },
  {
   "cell_type": "code",
   "execution_count": 197,
   "metadata": {
    "cell_id": "a1c0791fbb144424ad55fbf7bd40f044",
    "colab": {
     "base_uri": "https://localhost:8080/"
    },
    "deepnote_cell_type": "code",
    "deepnote_to_be_reexecuted": false,
    "execution_millis": 101,
    "execution_start": 1682719490292,
    "id": "cr3F7qp-nPkY",
    "outputId": "e69ca3ba-d20a-4f9e-8dda-57d4abf40cc8",
    "source_hash": "3244867c"
   },
   "outputs": [
    {
     "data": {
      "text/plain": [
       "count    908613.000000\n",
       "mean         78.723221\n",
       "std        3124.612949\n",
       "min           0.000000\n",
       "25%           1.150000\n",
       "50%           2.000000\n",
       "75%           3.730000\n",
       "max      360068.140000\n",
       "Name: trip_distance, dtype: float64"
      ]
     },
     "execution_count": 197,
     "metadata": {},
     "output_type": "execute_result"
    }
   ],
   "source": [
    "df.trip_distance.describe()"
   ]
  },
  {
   "cell_type": "code",
   "execution_count": 198,
   "metadata": {
    "cell_id": "4a1f92bd8a424c05a7b3e62451904fec",
    "deepnote_cell_type": "code",
    "deepnote_to_be_reexecuted": false,
    "execution_millis": 85,
    "execution_start": 1682719490347,
    "source_hash": "7d1e3d25"
   },
   "outputs": [],
   "source": [
    "#Filtering all the rows where distance is less than 1 mile\n",
    "df = df[df.trip_distance < 100]\n",
    "df = df[df.trip_distance > 0]"
   ]
  },
  {
   "cell_type": "code",
   "execution_count": 199,
   "metadata": {
    "cell_id": "320b03ab4e424840993bc0dcd4e47126",
    "deepnote_cell_type": "code",
    "deepnote_table_loading": false,
    "deepnote_table_state": {
     "filters": [],
     "pageIndex": 0,
     "pageSize": 50,
     "sortBy": []
    },
    "deepnote_to_be_reexecuted": false,
    "execution_millis": 75,
    "execution_start": 1682719988389,
    "source_hash": "e2ca8737"
   },
   "outputs": [],
   "source": [
    "#df = df[df.trip_distance < 100]"
   ]
  },
  {
   "cell_type": "markdown",
   "metadata": {
    "cell_id": "01ffc50d830147c7afdee99510f63fb8",
    "deepnote_cell_type": "text-cell-p",
    "formattedRanges": []
   },
   "source": [
    "Outliers for Fare"
   ]
  },
  {
   "cell_type": "code",
   "execution_count": 200,
   "metadata": {
    "cell_id": "d3905b84a88c4433846227097896521d",
    "deepnote_cell_type": "code",
    "deepnote_to_be_reexecuted": false,
    "execution_millis": 27,
    "execution_start": 1682720031889,
    "source_hash": "d7a8ea2b"
   },
   "outputs": [
    {
     "data": {
      "text/plain": [
       "count    854965.000000\n",
       "mean         14.971633\n",
       "std          13.862570\n",
       "min        -300.000000\n",
       "25%           7.900000\n",
       "50%          11.060000\n",
       "75%          17.530000\n",
       "max         595.500000\n",
       "Name: fare_amount, dtype: float64"
      ]
     },
     "execution_count": 200,
     "metadata": {},
     "output_type": "execute_result"
    }
   ],
   "source": [
    "df.fare_amount.describe()"
   ]
  },
  {
   "cell_type": "code",
   "execution_count": 201,
   "metadata": {
    "cell_id": "016d279bf4414bae9f74f01557ed9871",
    "deepnote_cell_type": "code",
    "deepnote_to_be_reexecuted": false,
    "execution_millis": 135,
    "execution_start": 1682720027465,
    "source_hash": "54f4833"
   },
   "outputs": [],
   "source": [
    "#Filtering all the rows where the amount is less than $3 as it is the base fare.\n",
    "#Ref for base fare--> https://www.nyc.gov/site/tlc/passengers/taxi-fare.page\n",
    "df = df[df['fare_amount'] > 3]"
   ]
  },
  {
   "cell_type": "code",
   "execution_count": 202,
   "metadata": {
    "cell_id": "1738bece83a542aab2df262650782317",
    "deepnote_cell_type": "code",
    "deepnote_to_be_reexecuted": false,
    "execution_millis": 22,
    "execution_start": 1682714789604,
    "source_hash": "f1989fc9"
   },
   "outputs": [
    {
     "data": {
      "text/plain": [
       "count    845964.000000\n",
       "mean         15.121393\n",
       "std          13.840992\n",
       "min           3.500000\n",
       "25%           8.000000\n",
       "50%          11.400000\n",
       "75%          17.700000\n",
       "max         595.500000\n",
       "Name: fare_amount, dtype: float64"
      ]
     },
     "execution_count": 202,
     "metadata": {},
     "output_type": "execute_result"
    }
   ],
   "source": [
    "df['fare_amount'].describe()"
   ]
  },
  {
   "cell_type": "markdown",
   "metadata": {
    "cell_id": "fa00dd78766d4f789ae3d13c8e803894",
    "deepnote_cell_type": "text-cell-p",
    "formattedRanges": []
   },
   "source": [
    "Calculating the Trip Time"
   ]
  },
  {
   "cell_type": "code",
   "execution_count": 203,
   "metadata": {
    "cell_id": "3ba703a5d02146c9abdc952a3f7a29e2",
    "deepnote_cell_type": "code",
    "deepnote_to_be_reexecuted": false,
    "execution_millis": 9,
    "execution_start": 1682720191596,
    "source_hash": "73b23392"
   },
   "outputs": [],
   "source": [
    "#Renaming pickup and dropoff date columns\n",
    "df = df.rename(columns={'lpep_pickup_datetime': 'pickup_datetime','lpep_dropoff_datetime': 'dropoff_datetime'})"
   ]
  },
  {
   "cell_type": "code",
   "execution_count": 204,
   "metadata": {
    "cell_id": "643334fd26c64c3cbcc6b1a520ab622c",
    "deepnote_cell_type": "code",
    "deepnote_to_be_reexecuted": false,
    "execution_millis": 9,
    "execution_start": 1682720204232,
    "source_hash": "1eb9f9ad"
   },
   "outputs": [],
   "source": [
    "#Calculating trip time in minutes\n",
    "df['trip_time'] = round((df['dropoff_datetime'] - df['pickup_datetime']) / np.timedelta64(60,'s'),2)"
   ]
  },
  {
   "cell_type": "code",
   "execution_count": 205,
   "metadata": {
    "cell_id": "ca440efbe6f94968868b001ac0635f07",
    "deepnote_cell_type": "code",
    "deepnote_to_be_reexecuted": false,
    "execution_millis": 28,
    "execution_start": 1682720206997,
    "source_hash": "7adc25ba"
   },
   "outputs": [
    {
     "data": {
      "text/plain": [
       "count    845964.000000\n",
       "mean         20.116554\n",
       "std          75.241299\n",
       "min         -54.020000\n",
       "25%           8.000000\n",
       "50%          12.520000\n",
       "75%          19.620000\n",
       "max        1439.920000\n",
       "Name: trip_time, dtype: float64"
      ]
     },
     "execution_count": 205,
     "metadata": {},
     "output_type": "execute_result"
    }
   ],
   "source": [
    "df['trip_time'].describe()"
   ]
  },
  {
   "cell_type": "code",
   "execution_count": 206,
   "metadata": {
    "cell_id": "7754f2aeea6144daa62b990ab54b17c3",
    "deepnote_cell_type": "code",
    "deepnote_to_be_reexecuted": false,
    "execution_millis": 129,
    "execution_start": 1682720211028,
    "source_hash": "47f623a7"
   },
   "outputs": [],
   "source": [
    "#Filtering all the rows where time is less than 1 mins\n",
    "df = df[df['trip_time'] > 1]"
   ]
  },
  {
   "cell_type": "code",
   "execution_count": 207,
   "metadata": {
    "cell_id": "bf783869e89e44be84310bc67f076ec3",
    "deepnote_cell_type": "code",
    "deepnote_to_be_reexecuted": false,
    "execution_millis": 507,
    "execution_start": 1682720279871,
    "id": "KA3N61QTnPka",
    "source_hash": "181e1c6e"
   },
   "outputs": [],
   "source": [
    "# Analyze the temporal aspects of the data\n",
    "\n",
    "df['pickup_dayofweek'] = df['pickup_datetime'].dt.dayofweek\n",
    "df['pickup_hour'] = df['pickup_datetime'].dt.hour\n",
    "df['dropoff_hour'] = df['dropoff_datetime'].dt.hour\n",
    "df['pickup_date'] = pd.to_datetime(df['pickup_datetime'].dt.date)\n",
    "df['dropoff_date'] = pd.to_datetime(df['dropoff_datetime'].dt.date)\n"
   ]
  },
  {
   "cell_type": "code",
   "execution_count": 208,
   "metadata": {
    "cell_id": "911de68480eb42f884916fe1071ecd71",
    "deepnote_cell_type": "code",
    "deepnote_to_be_reexecuted": false,
    "execution_millis": 190,
    "execution_start": 1682720290631,
    "id": "oRA6wWjhv4i2",
    "source_hash": "172f2831"
   },
   "outputs": [],
   "source": [
    "# Adding peak_hours as [18,19,20]\n",
    "df['peak_hours'] = df['pickup_hour'].apply(lambda x: 1 if x in [7,8,9,10,17,18,19] else 0)"
   ]
  },
  {
   "cell_type": "code",
   "execution_count": 209,
   "metadata": {
    "cell_id": "fa2bfb4162724d74b28b471658f2b831",
    "colab": {
     "base_uri": "https://localhost:8080/"
    },
    "deepnote_cell_type": "code",
    "deepnote_to_be_reexecuted": false,
    "execution_millis": 1605,
    "execution_start": 1682720292411,
    "id": "u_M6lWx4su4K",
    "outputId": "e64a4f6c-f043-4a57-850d-2df1572f8c08",
    "source_hash": "cff78e1b"
   },
   "outputs": [],
   "source": [
    "#Flagging a day is a holiday or not.\n",
    "holidays_df['Holidays'] = pd.to_datetime(holidays_df['Holidays'])\n",
    "df = pd.merge(df, holidays_df, left_on='pickup_date', right_on='Holidays', how='left')\n",
    "df['Holidays'].fillna(False, inplace=True)\n",
    "df['holiday_flag'] = df['Holidays'].apply(lambda x: 0 if x is False else 1)\n",
    "df = df.drop(columns = 'Holidays')"
   ]
  },
  {
   "cell_type": "markdown",
   "metadata": {
    "cell_id": "db97152ac2534dbdaf3e1ac01a82cdce",
    "deepnote_cell_type": "text-cell-p",
    "formattedRanges": []
   },
   "source": [
    "Converting all the required variables into categories and applying one hot encoding on them"
   ]
  },
  {
   "cell_type": "code",
   "execution_count": 210,
   "metadata": {
    "cell_id": "6317deee4dba4786b608bce903daa77e",
    "deepnote_cell_type": "code",
    "deepnote_to_be_reexecuted": false,
    "execution_millis": 88,
    "execution_start": 1682720605956,
    "source_hash": "70d0a066"
   },
   "outputs": [],
   "source": [
    "df_model = df.copy()\n",
    "df_model = df_model.drop(['pickup_datetime','dropoff_datetime','pickup_date','dropoff_date'],axis = 1)"
   ]
  },
  {
   "cell_type": "code",
   "execution_count": 211,
   "metadata": {
    "cell_id": "3157efca78484f91a4302fd86e1f2c75",
    "deepnote_cell_type": "code",
    "deepnote_to_be_reexecuted": false,
    "execution_millis": 227,
    "execution_start": 1682720775864,
    "source_hash": "f1fb878f"
   },
   "outputs": [],
   "source": [
    "# Load the green taxi data\n",
    "# Scale the trip distance column\n",
    "scaler = StandardScaler()\n",
    "df_model['distance_scaled'] = scaler.fit_transform(df_model[['trip_distance']])\n",
    "df_model['fare_scaled'] = scaler.fit_transform(df_model[['fare_amount']])\n",
    "#sns.scatterplot(x='distance_scaled', y='fare_scaled', data=df_model)"
   ]
  },
  {
   "cell_type": "code",
   "execution_count": 212,
   "metadata": {
    "cell_id": "7700650e90794e32bcb9c8cda131c89a",
    "deepnote_cell_type": "code",
    "deepnote_to_be_reexecuted": false,
    "execution_millis": 830292,
    "execution_start": 1682721608489,
    "source_hash": "e688495c"
   },
   "outputs": [],
   "source": [
    "##creating classification model\n",
    "#df_model['trip_distance_flag'] = df_model['distance_scaled'].apply(lambda x: 1 if x > df_model.distance_scaled.median() else 0)\n",
    "df_model['surcharge_flag'] = df_model['congestion_surcharge'].apply(lambda x: 1 if x > 0 else 0)\n",
    "\n"
   ]
  },
  {
   "cell_type": "code",
   "execution_count": 213,
   "metadata": {},
   "outputs": [
    {
     "data": {
      "text/plain": [
       "0    623204\n",
       "1    217059\n",
       "Name: surcharge_flag, dtype: int64"
      ]
     },
     "execution_count": 213,
     "metadata": {},
     "output_type": "execute_result"
    }
   ],
   "source": [
    "df_model['surcharge_flag'].value_counts()"
   ]
  },
  {
   "cell_type": "code",
   "execution_count": 214,
   "metadata": {},
   "outputs": [
    {
     "data": {
      "text/plain": [
       "(840263, 34)"
      ]
     },
     "execution_count": 214,
     "metadata": {},
     "output_type": "execute_result"
    }
   ],
   "source": [
    "locations_cord = pd.read_csv('location_coordinates.csv')\n",
    "df_test = pd.merge(df_model,locations_cord,on='pickup_zone',how='left')\n",
    "df_test.shape"
   ]
  },
  {
   "cell_type": "code",
   "execution_count": 215,
   "metadata": {},
   "outputs": [
    {
     "data": {
      "text/plain": [
       "Index(['VendorID', 'store_and_fwd_flag', 'RatecodeID', 'PULocationID',\n",
       "       'DOLocationID', 'passenger_count', 'trip_distance', 'fare_amount',\n",
       "       'extra', 'mta_tax', 'tip_amount', 'tolls_amount',\n",
       "       'improvement_surcharge', 'total_amount', 'payment_type', 'trip_type',\n",
       "       'congestion_surcharge', 'pickup_borough', 'pickup_zone',\n",
       "       'pickup_service_zone', 'drop_borough', 'drop_zone', 'drop_service_zone',\n",
       "       'trip_time', 'pickup_dayofweek', 'pickup_hour', 'dropoff_hour',\n",
       "       'peak_hours', 'holiday_flag', 'distance_scaled', 'fare_scaled',\n",
       "       'surcharge_flag', 'pickup_latitude', 'pickup_longitude'],\n",
       "      dtype='object')"
      ]
     },
     "execution_count": 215,
     "metadata": {},
     "output_type": "execute_result"
    }
   ],
   "source": [
    "########completed till here\n",
    "df_test.columns"
   ]
  },
  {
   "cell_type": "code",
   "execution_count": 216,
   "metadata": {},
   "outputs": [],
   "source": [
    "\n",
    "# Drop rows with missing pickup coordinates\n",
    "df_test.dropna(subset=['pickup_latitude', 'pickup_longitude','peak_hours','trip_time','payment_type'], inplace=True)\n",
    "\n",
    "# Scale the latitude and longitude coordinates\n",
    "scaler = MinMaxScaler()\n",
    "df_test[['pickup_latitude', 'pickup_longitude']] = scaler.fit_transform(df_test[['pickup_latitude', 'pickup_longitude']])\n",
    "\n",
    "# Choose relevant features for clustering\n",
    "X = df_test[['pickup_latitude', 'pickup_longitude','peak_hours','payment_type','holiday_flag','pickup_dayofweek','pickup_hour']]"
   ]
  },
  {
   "cell_type": "code",
   "execution_count": 217,
   "metadata": {},
   "outputs": [],
   "source": [
    "#converting categorical variables to label encoding\n",
    "from sklearn.preprocessing import LabelEncoder\n",
    "\n",
    "\n",
    "# encode categorical variables\n",
    "encoder = LabelEncoder()\n",
    "X['peak_hours'] = encoder.fit_transform(X['peak_hours'])\n",
    "X['pickup_dayofweek'] = encoder.fit_transform(X['pickup_dayofweek'])\n",
    "X['holiday_flag'] = encoder.fit_transform(X['holiday_flag'])\n",
    "X['payemnt_type'] = encoder.fit_transform(X['payment_type'])\n",
    "\n",
    "\n"
   ]
  },
  {
   "cell_type": "code",
   "execution_count": 218,
   "metadata": {},
   "outputs": [],
   "source": [
    "## Splitting data into train and test split\n",
    "\n",
    "from imblearn.over_sampling import RandomOverSampler\n",
    "X_train, X_test, y_train, y_test = train_test_split(X, df_test['surcharge_flag'], test_size=0.2, random_state=42)\n",
    "\n",
    "# perform upsampling using RandomOverSampler\n",
    "oversampler = RandomOverSampler(random_state=42)\n",
    "X_train, y_train = oversampler.fit_resample(X_train, y_train)\n",
    "\n",
    "\n"
   ]
  },
  {
   "cell_type": "code",
   "execution_count": 219,
   "metadata": {},
   "outputs": [
    {
     "name": "stdout",
     "output_type": "stream",
     "text": [
      "Best Parameters: {'var_smoothing': 1e-09}\n",
      "Classification Report:\n",
      "              precision    recall  f1-score   support\n",
      "\n",
      "           0       0.82      0.50      0.63    106085\n",
      "           1       0.38      0.73      0.50     43473\n",
      "\n",
      "    accuracy                           0.57    149558\n",
      "   macro avg       0.60      0.62      0.56    149558\n",
      "weighted avg       0.69      0.57      0.59    149558\n",
      "\n"
     ]
    }
   ],
   "source": [
    "##Naive Bayes\n",
    "def tuned_nb_classification(X_train, y_train, X_test, y_test, param_grid=None):\n",
    "    # create the Naive Bayes classifier\n",
    "    nb = GaussianNB()\n",
    "\n",
    "    # set up the parameter grid for hyperparameter tuning\n",
    "    if param_grid is None:\n",
    "        param_grid = {'var_smoothing': [1e-9, 1e-8, 1e-7]}\n",
    "\n",
    "    # perform grid search cross-validation to find the best hyperparameters\n",
    "    grid_search = GridSearchCV(nb, param_grid, cv=5)\n",
    "    grid_search.fit(X_train, y_train)\n",
    "\n",
    "    # make predictions on the test set using the best model\n",
    "    best_nb = grid_search.best_estimator_\n",
    "    y_pred = best_nb.predict(X_test)\n",
    "\n",
    "    # display performance metrics\n",
    "    print(\"Best Parameters:\", grid_search.best_params_)\n",
    "    print(\"Classification Report:\")\n",
    "    print(classification_report(y_test, y_pred))\n",
    "\n",
    "tuned_nb_classification(X_train,y_train,X_test,y_test)"
   ]
  },
  {
   "cell_type": "code",
   "execution_count": 220,
   "metadata": {},
   "outputs": [
    {
     "name": "stdout",
     "output_type": "stream",
     "text": [
      "Classification Report:\n",
      "              precision    recall  f1-score   support\n",
      "\n",
      "           0       0.84      0.46      0.59    106085\n",
      "           1       0.37      0.79      0.51     43473\n",
      "\n",
      "    accuracy                           0.55    149558\n",
      "   macro avg       0.61      0.62      0.55    149558\n",
      "weighted avg       0.70      0.55      0.57    149558\n",
      "\n"
     ]
    }
   ],
   "source": [
    "#Logistic Regression\n",
    "def lr_classification(X_train, y_train, X_test, y_test):\n",
    "    # create the logistic regression classifier\n",
    "    lr = LogisticRegression()\n",
    "\n",
    "    # train the model on the training data\n",
    "    lr.fit(X_train, y_train)\n",
    "\n",
    "    # make predictions on the test set\n",
    "    y_pred = lr.predict(X_test)\n",
    "\n",
    "    # display performance metrics\n",
    "    print(\"Classification Report:\")\n",
    "    print(classification_report(y_test, y_pred))\n",
    "lr_classification(X_train,y_train,X_test,y_test)"
   ]
  },
  {
   "cell_type": "code",
   "execution_count": 233,
   "metadata": {},
   "outputs": [
    {
     "name": "stdout",
     "output_type": "stream",
     "text": [
      "Best Parameters: {'max_depth': 50}\n",
      "Classification Report:\n",
      "              precision    recall  f1-score   support\n",
      "\n",
      "           0       0.88      0.64      0.74    106085\n",
      "           1       0.47      0.78      0.59     43473\n",
      "\n",
      "    accuracy                           0.68    149558\n",
      "   macro avg       0.68      0.71      0.67    149558\n",
      "weighted avg       0.76      0.68      0.70    149558\n",
      "\n"
     ]
    }
   ],
   "source": [
    "#####Decision tree with tuning\n",
    "\n",
    "from sklearn.metrics import confusion_matrix\n",
    "def tuned_tree_classification(X_train, y_train, X_test, y_test, param_grid=None):\n",
    "    # create the decision tree classifier\n",
    "    tree = DecisionTreeClassifier()\n",
    "\n",
    "    # set up the parameter grid for hyperparameter tuning\n",
    "    if param_grid is None:\n",
    "        param_grid = {'max_depth': [5, 10, 20, 50]}\n",
    "\n",
    "    # perform grid search cross-validation to find the best hyperparameters\n",
    "    grid_search = GridSearchCV(tree, param_grid, cv=5)\n",
    "    grid_search.fit(X_train, y_train)\n",
    "\n",
    "    # make predictions on the test set using the best model\n",
    "    best_tree = grid_search.best_estimator_\n",
    "    y_pred = best_tree.predict(X_test)\n",
    "\n",
    "    # display performance metrics\n",
    "    print(\"Best Parameters:\", grid_search.best_params_)\n",
    "    print(\"Classification Report:\")\n",
    "    print(classification_report(y_test, y_pred))\n",
    "\n",
    "\n",
    "tuned_tree_classification(X_train,y_train,X_test,y_test)"
   ]
  },
  {
   "cell_type": "code",
   "execution_count": 236,
   "metadata": {},
   "outputs": [
    {
     "data": {
      "image/png": "[encoded data removed]",
      "text/plain": [
       "<Figure size 640x480 with 1 Axes>"
      ]
     },
     "metadata": {},
     "output_type": "display_data"
    },
    {
     "name": "stdout",
     "output_type": "stream",
     "text": [
      "Classification Report:\n",
      "              precision    recall  f1-score   support\n",
      "\n",
      "           0       0.88      0.63      0.73    106085\n",
      "           1       0.47      0.80      0.59     43473\n",
      "\n",
      "    accuracy                           0.68    149558\n",
      "   macro avg       0.68      0.71      0.66    149558\n",
      "weighted avg       0.76      0.68      0.69    149558\n",
      "\n",
      "AUC-ROC Score: 0.785370696748778\n"
     ]
    },
    {
     "data": {
      "image/png": "[encoded data removed]",
      "text/plain": [
       "<Figure size 640x480 with 1 Axes>"
      ]
     },
     "metadata": {},
     "output_type": "display_data"
    }
   ],
   "source": [
    "from xgboost import XGBClassifier\n",
    "from sklearn.metrics import roc_curve, auc, roc_auc_score\n",
    "import matplotlib.pyplot as plt\n",
    "from sklearn.metrics import confusion_matrix\n",
    "\n",
    "# create the XGBoost classifier\n",
    "xgb = XGBClassifier(n_estimators=100, max_depth=3, learning_rate=0.1)\n",
    "\n",
    "# fit the model to the training data\n",
    "xgb.fit(X_train, y_train)\n",
    "\n",
    "# calculate feature importances\n",
    "importance = xgb.feature_importances_\n",
    "\n",
    "# plot feature importances\n",
    "plt.bar(range(len(importance)), importance)\n",
    "plt.title(\"Feature Importances\")\n",
    "plt.xticks(range(len(importance)), X_train.columns, rotation=90)\n",
    "plt.show()\n",
    "\n",
    "# predict probabilities for test set\n",
    "y_pred_prob = xgb.predict_proba(X_test)[:, 1]\n",
    "y_pred = xgb.predict(X_test)\n",
    "\n",
    "\n",
    "# display performance metrics\n",
    "\n",
    "print(\"Classification Report:\")\n",
    "print(classification_report(y_test, y_pred))\n",
    "# calculate AUC-ROC score\n",
    "auc_roc = roc_auc_score(y_test, y_pred_prob)\n",
    "print(\"AUC-ROC Score:\", auc_roc)\n",
    "\n",
    "# calculate false positive rate and true positive rate\n",
    "fpr, tpr, thresholds = roc_curve(y_test, y_pred_prob)\n",
    "\n",
    "# plot AUC-ROC curve\n",
    "plt.plot(fpr, tpr, color='darkorange', lw=2, label='ROC curve (area = %0.2f)' % auc_roc)\n",
    "plt.plot([0, 1], [0, 1], color='navy', lw=2, linestyle='--')\n",
    "plt.xlim([0.0, 1.0])\n",
    "plt.ylim([0.0, 1.05])\n",
    "plt.xlabel('False Positive Rate')\n",
    "plt.ylabel('True Positive Rate')\n",
    "plt.title('Receiver operating characteristic')\n",
    "plt.legend(loc=\"lower right\")\n",
    "plt.show()"
   ]
  },
  {
   "cell_type": "code",
   "execution_count": 225,
   "metadata": {},
   "outputs": [
    {
     "name": "stdout",
     "output_type": "stream",
     "text": [
      "Best Parameters: {'n_neighbors': 7, 'weights': 'distance'}\n",
      "Classification Report:\n",
      "              precision    recall  f1-score   support\n",
      "\n",
      "           0       0.78      0.84      0.81    106085\n",
      "           1       0.52      0.43      0.47     43473\n",
      "\n",
      "    accuracy                           0.72    149558\n",
      "   macro avg       0.65      0.63      0.64    149558\n",
      "weighted avg       0.71      0.72      0.71    149558\n",
      "\n"
     ]
    }
   ],
   "source": [
    "\n",
    "###KNN\n",
    "def tuned_knn_classification(X_train, y_train, X_test, y_test, param_grid=None):\n",
    "    # create the KNN classifier\n",
    "    knn = KNeighborsClassifier()\n",
    "\n",
    "    # set up the parameter grid for hyperparameter tuning\n",
    "    if param_grid is None:\n",
    "        param_grid = {'n_neighbors': [3, 5, 7], 'weights': ['uniform', 'distance']}\n",
    "\n",
    "    # perform grid search cross-validation to find the best hyperparameters\n",
    "    grid_search = GridSearchCV(knn, param_grid, cv=5)\n",
    "    grid_search.fit(X_train, y_train)\n",
    "\n",
    "    # make predictions on the test set using the best model\n",
    "    best_knn = grid_search.best_estimator_\n",
    "    y_pred = best_knn.predict(X_test)\n",
    "\n",
    "    # display performance metrics\n",
    "    print(\"Best Parameters:\", grid_search.best_params_)\n",
    "    print(\"Classification Report:\")\n",
    "    print(classification_report(y_test, y_pred))\n",
    "tuned_knn_classification(X_train,y_train,X_test,y_test)"
   ]
  },
  {
   "cell_type": "code",
   "execution_count": 226,
   "metadata": {},
   "outputs": [
    {
     "name": "stdout",
     "output_type": "stream",
     "text": [
      "Best Parameters: {'max_depth': 20, 'min_samples_split': 2, 'n_estimators': 100}\n",
      "Classification Report:\n",
      "              precision    recall  f1-score   support\n",
      "\n",
      "           0       0.88      0.65      0.74    106085\n",
      "           1       0.48      0.78      0.59     43473\n",
      "\n",
      "    accuracy                           0.69    149558\n",
      "   macro avg       0.68      0.71      0.67    149558\n",
      "weighted avg       0.76      0.69      0.70    149558\n",
      "\n"
     ]
    }
   ],
   "source": [
    "\n",
    "####Random Forest\n",
    "def tuned_rf_classification(X_train, y_train, X_test, y_test, param_grid=None):\n",
    "    # create the random forest classifier\n",
    "    rf = RandomForestClassifier()\n",
    "\n",
    "    # set up the parameter grid for hyperparameter tuning\n",
    "    if param_grid is None:\n",
    "        param_grid = {'n_estimators': [10, 50, 100], 'max_depth': [None, 10, 20], 'min_samples_split': [2, 5]}\n",
    "\n",
    "    # perform grid search cross-validation to find the best hyperparameters\n",
    "    grid_search = GridSearchCV(rf, param_grid, cv=5)\n",
    "    grid_search.fit(X_train, y_train)\n",
    "\n",
    "    # make predictions on the test set using the best model\n",
    "    best_rf = grid_search.best_estimator_\n",
    "    y_pred = best_rf.predict(X_test)\n",
    "\n",
    "    # display performance metrics\n",
    "    print(\"Best Parameters:\", grid_search.best_params_)\n",
    "    print(\"Classification Report:\")\n",
    "    print(classification_report(y_test, y_pred))\n",
    "tuned_rf_classification(X_train,y_train,X_test,y_test)"
   ]
  },
  {
   "cell_type": "code",
   "execution_count": null,
   "metadata": {},
   "outputs": [],
   "source": []
  }
 ],
 "metadata": {
  "colab": {
   "provenance": []
  },
  "deepnote": {},
  "deepnote_execution_queue": [],
  "deepnote_notebook_id": "cc905e49f49142f0a2baf3e1d337b607",
  "kernelspec": {
   "display_name": "Python 3 (ipykernel)",
   "language": "python",
   "name": "python3"
  },
  "language_info": {
   "codemirror_mode": {
    "name": "ipython",
    "version": 3
   },
   "file_extension": ".py",
   "mimetype": "text/x-python",
   "name": "python",
   "nbconvert_exporter": "python",
   "pygments_lexer": "ipython3",
   "version": "3.10.9"
  }
 },
 "nbformat": 4,
 "nbformat_minor": 4
}
